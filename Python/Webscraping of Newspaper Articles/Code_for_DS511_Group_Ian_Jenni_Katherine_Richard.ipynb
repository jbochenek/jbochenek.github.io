{
  "nbformat": 4,
  "nbformat_minor": 0,
  "metadata": {
    "colab": {
      "name": "Code for DS511 Group Ian Jenni Katherine Richard.ipynb",
      "provenance": [],
      "collapsed_sections": [],
      "toc_visible": true
    },
    "kernelspec": {
      "name": "python3",
      "display_name": "Python 3"
    }
  },
  "cells": [
    {
      "cell_type": "markdown",
      "metadata": {
        "id": "DbhU9gtBtR3g",
        "colab_type": "text"
      },
      "source": [
        "# **Webscraping a Google News Dataset**\n",
        "DSCI 511 Group Project \n",
        "Jenni Bochenek, Ian Fitzsimmons, Richard Hong, Katherine Houseman"
      ]
    },
    {
      "cell_type": "markdown",
      "metadata": {
        "id": "N0OXWdqv2qwB",
        "colab_type": "text"
      },
      "source": [
        "#Our Team\n",
        "In order of level of contribution:\n",
        "\n",
        "**Jenni Bochenek:** I have a BS in Psychology, focusing on the Psychobiology of Addictions  with a minor in Biology, from Purdue University (Indianapolis Campus), and a MS from New Mexico Highlands Univeristy in Psychology. Recently I completed a 10 course specialization in Data Science from John Hopkins University on Coursera. The courses were taught in R, not Python. I currently work at Educational Testing Service (ETS) in the Academic to Career (AtC) Research Center as a Research Associate. My interests are in education, particularly Higher Education, but I also have a strong background in biology and pharmacology. **Skills:** Coding, data managment, and data cleaning **Contributions:** Code for webscraping rss feeds\n",
        "\n",
        "**Ian Fitzsimmons**: I have a BS in Aerospace Engineering from Penn State University. I have been working at Lockheed Martin full time since graduating in 2016. At Lockheed Martin I work on software development and testing. Software is written mostly in C++ and most of the analysis is done in Python.  **Skills:** Coding **Contributions:** Code for analysis (get keywords by hour and by day). \n",
        "\n",
        "**Richard Hong**: I have a BA in Music, focusing on Music Theory, from City College of New York (CUNY).  I have experience with SAS programming with SAS base certification. I’ve been serving as a worship leader and music director for more than 10 years at Antioch Church of Philadelphia. **Skills:** Data structures **Contributions:** Cron coding\n",
        "\n",
        "**Katherine Houseman**: I have a social sciences background: BA in Anthropology (University of Pennsylvania), MA in Teaching English as a Second Language (SIT Graduate Institute), and MS in Global and International Education (Drexel). I’ve been an ESL teacher for 10 years, the last six of which have been at Drexel. **Skills:** Data visualization, writing **Contributions:** writing and organization of report"
      ]
    },
    {
      "cell_type": "markdown",
      "metadata": {
        "id": "jMxW9Vlf3fij",
        "colab_type": "text"
      },
      "source": [
        "#Our Project\n",
        "\n",
        "##Introduction\n",
        "The ubiquity of news, from social media to websites to news aggregators, in addition to the emergence of \"fake\" news, has reinvigorated fundamental questions in journalism about how events are constituted and packaged as news stories (often called \"news values\") and how stories affect people's perceptions of the world. Our data science project is informed by studies of news values (Galtung & Ruge, 1965; Harcup & O'Neill, 2000, 2009); sentiment analysis (Berger & Milkman, 2012); algorithmic judgment (Carlson, 2015) and news bias (Hamborg,  Meuschke, & Gipp, 2018). For our project, we wanted to design code that would generate a dataset of news articles from Google News which could be used for further study, possibly in one of the areas above. These data could be useful to researchers in the fields of journalism, linguistics, and political science, among others. \n",
        "\n",
        "We extracted information from google news using their RSS feeds from: \n",
        "\n",
        "  **google headlines**: https://news.google.com/news/rss/\n",
        " \n",
        "  **google world**: https://news.google.com/news/rss/headlines/section/topic/WORLD\n",
        "  \n",
        "  **google business**: https://news.google.com/news/rss/headlines/section/topic/BUSINESS\n",
        "  \n",
        "  **google nation**: https://news.google.com/news/rss/headlines/section/topic/NATION\n",
        "  \n",
        "  **google health**: https://news.google.com/news/rss/headlines/section/topic/HEALTH\n",
        "  \n",
        "  **google sports**: https://news.google.com/news/rss/headlines/section/topic/SPORTS\n",
        "  \n",
        " **google tech**: https://news.google.com/news/rss/headlines/section/topic/TECHNOLOGY\n",
        " \n",
        "  **google entertainment**: https://news.google.com/news/rss/headlines/section/topic/ENTERTAINMENT\n",
        "\n",
        "We set up a code to pull from the RSS feeds every hour and append the new data to our datafile to build our final data file. We included duplicate articles because the content in the article itself may be changing or updated by the hour. The data is organized by what RSS feed it originated from, so that tech news and health news are stored seperately. "
      ]
    },
    {
      "cell_type": "markdown",
      "metadata": {
        "id": "hR-KsVsl5TPl",
        "colab_type": "text"
      },
      "source": [
        "###Google News"
      ]
    },
    {
      "cell_type": "markdown",
      "metadata": {
        "id": "hXWwMg33xJMo",
        "colab_type": "text"
      },
      "source": [
        "![alt text](https://docs.google.com/uc?export=download&id=17XKXD6AMnENOX3fUB2iGq934POccI2af)"
      ]
    },
    {
      "cell_type": "markdown",
      "metadata": {
        "id": "WO7zrAZ75W9O",
        "colab_type": "text"
      },
      "source": [
        "#Our Code"
      ]
    },
    {
      "cell_type": "markdown",
      "metadata": {
        "id": "gt8oByGg73Yb",
        "colab_type": "text"
      },
      "source": [
        "###Cron Code \n"
      ]
    },
    {
      "cell_type": "markdown",
      "metadata": {
        "id": "ASb-Tmvc8A-u",
        "colab_type": "text"
      },
      "source": [
        "07 \\* \\* \\* \\* /Users/macmain/anaconda3/bin/python3 /Users/macmain/2018FallTeamProject/get_hourly_info.py >> /Users/macmain/2018FallTeamProject/hourlyInfo.log 2>&1\n",
        "\n",
        "20 23 \\* \\* \\* /Users/macmain/anaconda3/bin/python3 /Users/macmain/2018FallTeamProject/CreateDailyInfo.py >> /Users/macmain/2018FallTeamProject/DailyInfo.log 2>&1"
      ]
    },
    {
      "cell_type": "markdown",
      "metadata": {
        "id": "mstHQSZ24cGn",
        "colab_type": "text"
      },
      "source": [
        "###Errors\n",
        "\n",
        "Not all websites, despite indexing on the Google RSS feeds, allowed us to access their websites:\n",
        "![alt text](https://docs.google.com/uc?export=download&id=1M-LjwYD1DXu5pfGyyTf1eV4DuGU-KP4M)\n",
        "\n",
        "There was an error in the code for the first day of running the file that caused the headlines.txt file to grow exponentially with each running, resulting in an extremely large file after only a few hours. This was fixed in the code you will see below.\n",
        "![alt text](https://docs.google.com/uc?export=download&id=1GhYt0pWiEJd1FSw65Kb0ONCFKGfxEZ0M)\n",
        "\n",
        "The cron (and running the code in spyder) raised an error that we did not see in colab or jupyter, that there was a concern with a failure to properly idenitify the timezone of the timestamps.\n",
        "![alt text](https://docs.google.com/uc?export=download&id=13B__aSYXKTOyuu1mgJpDRkGn89iSNf8P)\n",
        "\n",
        "Cron also raised unicode errors that we did not have when running in jupyter and colab.\n",
        "![alt text](https://docs.google.com/uc?export=download&id=1X4ZzmPnkL1DZSBc0dmKEhSKBFjQiwE4M)"
      ]
    },
    {
      "cell_type": "markdown",
      "metadata": {
        "id": "myAvyFSB8GT4",
        "colab_type": "text"
      },
      "source": [
        "###News Article Scraping"
      ]
    },
    {
      "cell_type": "code",
      "metadata": {
        "id": "OzJdBw9zri1f",
        "colab_type": "code",
        "colab": {
          "base_uri": "https://localhost:8080/",
          "height": 918
        },
        "outputId": "feeaaf02-0fe4-4671-ccb6-b7b20eacf627"
      },
      "source": [
        "\n",
        "!pip install feedparser #These are needed to run this in google colab\n",
        "!pip install newspaper3k"
      ],
      "execution_count": null,
      "outputs": [
        {
          "output_type": "stream",
          "text": [
            "Collecting feedparser\n",
            "\u001b[?25l  Downloading https://files.pythonhosted.org/packages/91/d8/7d37fec71ff7c9dbcdd80d2b48bcdd86d6af502156fc93846fb0102cb2c4/feedparser-5.2.1.tar.bz2 (192kB)\n",
            "\u001b[K    100% |████████████████████████████████| 194kB 6.5MB/s \n",
            "\u001b[?25hBuilding wheels for collected packages: feedparser\n",
            "  Running setup.py bdist_wheel for feedparser ... \u001b[?25l-\b \b\\\b \b|\b \b/\b \b-\b \bdone\n",
            "\u001b[?25h  Stored in directory: /root/.cache/pip/wheels/8c/69/b7/f52763c41c5471df57703a0ef718a32a5e81ee35dcf6d4f97f\n",
            "Successfully built feedparser\n",
            "Installing collected packages: feedparser\n",
            "Successfully installed feedparser-5.2.1\n",
            "Collecting newspaper3k\n",
            "\u001b[?25l  Downloading https://files.pythonhosted.org/packages/d7/b9/51afecb35bb61b188a4b44868001de348a0e8134b4dfa00ffc191567c4b9/newspaper3k-0.2.8-py3-none-any.whl (211kB)\n",
            "\u001b[K    100% |████████████████████████████████| 215kB 22.0MB/s \n",
            "\u001b[?25hRequirement already satisfied: beautifulsoup4>=4.4.1 in /usr/local/lib/python3.6/dist-packages (from newspaper3k) (4.6.3)\n",
            "Collecting jieba3k>=0.35.1 (from newspaper3k)\n",
            "\u001b[?25l  Downloading https://files.pythonhosted.org/packages/a9/cb/2c8332bcdc14d33b0bedd18ae0a4981a069c3513e445120da3c3f23a8aaa/jieba3k-0.35.1.zip (7.4MB)\n",
            "\u001b[K    100% |████████████████████████████████| 7.4MB 4.8MB/s \n",
            "\u001b[?25hRequirement already satisfied: requests>=2.10.0 in /usr/local/lib/python3.6/dist-packages (from newspaper3k) (2.18.4)\n",
            "Requirement already satisfied: PyYAML>=3.11 in /usr/local/lib/python3.6/dist-packages (from newspaper3k) (3.13)\n",
            "Requirement already satisfied: feedparser>=5.2.1 in /usr/local/lib/python3.6/dist-packages (from newspaper3k) (5.2.1)\n",
            "Collecting feedfinder2>=0.0.4 (from newspaper3k)\n",
            "  Downloading https://files.pythonhosted.org/packages/35/82/1251fefec3bb4b03fd966c7e7f7a41c9fc2bb00d823a34c13f847fd61406/feedfinder2-0.0.4.tar.gz\n",
            "Collecting tldextract>=2.0.1 (from newspaper3k)\n",
            "\u001b[?25l  Downloading https://files.pythonhosted.org/packages/0e/0c/1b7332684dfc2e6311d59cd00859a5318a7e0ba50334ad217ceb9555e213/tldextract-2.2.0-py2.py3-none-any.whl (52kB)\n",
            "\u001b[K    100% |████████████████████████████████| 61kB 20.8MB/s \n",
            "\u001b[?25hRequirement already satisfied: Pillow>=3.3.0 in /usr/local/lib/python3.6/dist-packages (from newspaper3k) (4.0.0)\n",
            "Requirement already satisfied: python-dateutil>=2.5.3 in /usr/local/lib/python3.6/dist-packages (from newspaper3k) (2.5.3)\n",
            "Requirement already satisfied: nltk>=3.2.1 in /usr/local/lib/python3.6/dist-packages (from newspaper3k) (3.2.5)\n",
            "Collecting lxml>=3.6.0 (from newspaper3k)\n",
            "\u001b[?25l  Downloading https://files.pythonhosted.org/packages/03/a4/9eea8035fc7c7670e5eab97f34ff2ef0ddd78a491bf96df5accedb0e63f5/lxml-4.2.5-cp36-cp36m-manylinux1_x86_64.whl (5.8MB)\n",
            "\u001b[K    100% |████████████████████████████████| 5.8MB 6.1MB/s \n",
            "\u001b[?25hCollecting cssselect>=0.9.2 (from newspaper3k)\n",
            "  Downloading https://files.pythonhosted.org/packages/7b/44/25b7283e50585f0b4156960691d951b05d061abf4a714078393e51929b30/cssselect-1.0.3-py2.py3-none-any.whl\n",
            "Collecting tinysegmenter==0.3 (from newspaper3k)\n",
            "  Downloading https://files.pythonhosted.org/packages/17/82/86982e4b6d16e4febc79c2a1d68ee3b707e8a020c5d2bc4af8052d0f136a/tinysegmenter-0.3.tar.gz\n",
            "Requirement already satisfied: chardet<3.1.0,>=3.0.2 in /usr/local/lib/python3.6/dist-packages (from requests>=2.10.0->newspaper3k) (3.0.4)\n",
            "Requirement already satisfied: urllib3<1.23,>=1.21.1 in /usr/local/lib/python3.6/dist-packages (from requests>=2.10.0->newspaper3k) (1.22)\n",
            "Requirement already satisfied: idna<2.7,>=2.5 in /usr/local/lib/python3.6/dist-packages (from requests>=2.10.0->newspaper3k) (2.6)\n",
            "Requirement already satisfied: certifi>=2017.4.17 in /usr/local/lib/python3.6/dist-packages (from requests>=2.10.0->newspaper3k) (2018.11.29)\n",
            "Requirement already satisfied: six in /usr/local/lib/python3.6/dist-packages (from feedfinder2>=0.0.4->newspaper3k) (1.11.0)\n",
            "Requirement already satisfied: setuptools in /usr/local/lib/python3.6/dist-packages (from tldextract>=2.0.1->newspaper3k) (40.6.2)\n",
            "Collecting requests-file>=1.4 (from tldextract>=2.0.1->newspaper3k)\n",
            "  Downloading https://files.pythonhosted.org/packages/23/9c/6e63c23c39e53d3df41c77a3d05a49a42c4e1383a6d2a5e3233161b89dbf/requests_file-1.4.3-py2.py3-none-any.whl\n",
            "Requirement already satisfied: olefile in /usr/local/lib/python3.6/dist-packages (from Pillow>=3.3.0->newspaper3k) (0.46)\n",
            "Building wheels for collected packages: jieba3k, feedfinder2, tinysegmenter\n",
            "  Running setup.py bdist_wheel for jieba3k ... \u001b[?25l-\b \b\\\b \b|\b \b/\b \b-\b \b\\\b \b|\b \b/\b \bdone\n",
            "\u001b[?25h  Stored in directory: /root/.cache/pip/wheels/83/15/9c/a3f1f67e7f7181170ad37d32e503c35da20627c013f438ed34\n",
            "  Running setup.py bdist_wheel for feedfinder2 ... \u001b[?25l-\b \bdone\n",
            "\u001b[?25h  Stored in directory: /root/.cache/pip/wheels/de/03/ca/778e3a7a627e3d98836cc890e7cb40c7575424cfd3340f40ed\n",
            "  Running setup.py bdist_wheel for tinysegmenter ... \u001b[?25l-\b \bdone\n",
            "\u001b[?25h  Stored in directory: /root/.cache/pip/wheels/81/2b/43/a02ede72324dd40cdd7ca53aad718c7710628e91b8b0dc0f02\n",
            "Successfully built jieba3k feedfinder2 tinysegmenter\n",
            "Installing collected packages: jieba3k, feedfinder2, requests-file, tldextract, lxml, cssselect, tinysegmenter, newspaper3k\n",
            "Successfully installed cssselect-1.0.3 feedfinder2-0.0.4 jieba3k-0.35.1 lxml-4.2.5 newspaper3k-0.2.8 requests-file-1.4.3 tinysegmenter-0.3 tldextract-2.2.0\n"
          ],
          "name": "stdout"
        }
      ]
    },
    {
      "cell_type": "code",
      "metadata": {
        "id": "cYlG2eQtIJA0",
        "colab_type": "code",
        "colab": {}
      },
      "source": [
        "import feedparser as fp\n",
        "import json\n",
        "import newspaper\n",
        "import nltk\n",
        "import re\n",
        "import calendar\n",
        "import os\n",
        "import collections as co\n",
        "from newspaper import Article\n",
        "from time import mktime\n",
        "from datetime import datetime\n",
        "from pprint import pprint\n",
        "from dateutil.parser import parse\n",
        "from collections import Counter\n"
      ],
      "execution_count": null,
      "outputs": []
    },
    {
      "cell_type": "code",
      "metadata": {
        "id": "MlaZdh_OHYn0",
        "colab_type": "code",
        "colab": {
          "base_uri": "https://localhost:8080/",
          "height": 68
        },
        "outputId": "9fe5163a-bf8d-4c81-ede6-62778b6cb593"
      },
      "source": [
        "nltk.download('punkt') #needed for the .nlp() call of the newspaper code"
      ],
      "execution_count": null,
      "outputs": [
        {
          "output_type": "stream",
          "text": [
            "[nltk_data] Downloading package punkt to /root/nltk_data...\n",
            "[nltk_data]   Unzipping tokenizers/punkt.zip.\n"
          ],
          "name": "stdout"
        },
        {
          "output_type": "execute_result",
          "data": {
            "text/plain": [
              "True"
            ]
          },
          "metadata": {
            "tags": []
          },
          "execution_count": 5
        }
      ]
    },
    {
      "cell_type": "code",
      "metadata": {
        "id": "cMtVzC9hcTu_",
        "colab_type": "code",
        "colab": {}
      },
      "source": [
        "# Time Stamp for log file\n",
        "print(\"\")\n",
        "print(\"\")\n",
        "print(\"\")\n",
        "print(\"========================================\")\n",
        "print(\"Log in time:\", datetime.now())\n",
        "print(\"========================================\")\n",
        "print(\"\")\n",
        "print(\"\")\n",
        "print(\"\")"
      ],
      "execution_count": null,
      "outputs": []
    },
    {
      "cell_type": "code",
      "metadata": {
        "id": "Rr815kP-Hgxu",
        "colab_type": "code",
        "colab": {}
      },
      "source": [
        "newspaper_json = json.dump({\n",
        "  \"google headlines\": {\n",
        "    \"rss\": \"https://news.google.com/news/rss/\"},\n",
        "  \"google world\": {\n",
        "     \"rss\": \"https://news.google.com/news/rss/headlines/section/topic/WORLD\"},\n",
        "  \"google business\": {\n",
        "     \"rss\": \"https://news.google.com/news/rss/headlines/section/topic/BUSINESS\"},\n",
        "  \"google nation\": {\n",
        "     \"rss\": \"https://news.google.com/news/rss/headlines/section/topic/NATION\"},\n",
        "  \"google health\": {\n",
        "     \"rss\": \"https://news.google.com/news/rss/headlines/section/topic/HEALTH\"},\n",
        "  \"google sports\": {\n",
        "     \"rss\": \"https://news.google.com/news/rss/headlines/section/topic/SPORTS\"},\n",
        "  \"google tech\": {\n",
        "     \"rss\": \"https://news.google.com/news/rss/headlines/section/topic/TECHNOLOGY\"},\n",
        "  \"google entertainment\": {\n",
        "     \"rss\": \"https://news.google.com/news/rss/headlines/section/topic/ENTERTAINMENT\"},\n",
        "  }, open(\"grss.json\",\"w\"))"
      ],
      "execution_count": null,
      "outputs": []
    },
    {
      "cell_type": "code",
      "metadata": {
        "id": "5_viIZTXHov0",
        "colab_type": "code",
        "colab": {}
      },
      "source": [
        "with open('grss.json',\"r\") as data_file:\n",
        "    google = json.load(data_file)"
      ],
      "execution_count": null,
      "outputs": []
    },
    {
      "cell_type": "code",
      "metadata": {
        "id": "v9i3fe4sHkrR",
        "colab_type": "code",
        "colab": {}
      },
      "source": [
        "data = {}\n",
        "data['feeds'] = {}\n",
        "datenow = datetime.now()\n",
        "headlines_loc = './headlines.txt'\n",
        "\n",
        "# Check to see if we made this file \n",
        "if os.path.exists(headlines_loc):\n",
        "  with open('headlines.txt', 'r') as infile:\n",
        "    ####headlines = json.load(infile) \n",
        "    headlines = infile.readlines() # Added 12/6/2018\n",
        "    headline = [] #added 12/8/2018\n",
        "else:\n",
        "  headlines = []\n",
        "  headline = [] #added 12/8/2018\n"
      ],
      "execution_count": null,
      "outputs": []
    },
    {
      "cell_type": "markdown",
      "metadata": {
        "id": "P0J-d7CbLv1p",
        "colab_type": "text"
      },
      "source": [
        "This is the main body of the webscraping. It utilizes Feedparser package to access and iterate over the RSS feeds, and Newspaper to scrape the news articles. Newspaper is designed for news article scraping, and is a powerful tool that allows us to access the different aspects of an online news article across multiple news sites without having to individually identify where those items are located. \n",
        "\n",
        "In this case, it is fetching Authors, Publication Date, Headline, and the main text of the news article. It also has NLP functionality through NLTK. By calling .nlp(), it will pass the text of the article through NLTK and identify a list of keywords and five key sentences to put in the summary by a complicated metric (full code of the .nlp() function [here](https://github.com/codelucas/newspaper/blob/master/newspaper/nlp.py)). "
      ]
    },
    {
      "cell_type": "code",
      "metadata": {
        "id": "4xrRZasEHlCi",
        "colab_type": "code",
        "colab": {
          "base_uri": "https://localhost:8080/",
          "height": 8979
        },
        "outputId": "a6b7ae20-755b-4eab-89f0-43d491c3bc5c"
      },
      "source": [
        "count = 1\n",
        "for web, value in google.items():\n",
        "    if 'rss' in value:\n",
        "        d = fp.parse(value['rss'])\n",
        "        file = {\n",
        "            \"rss\": value['rss'],\n",
        "            \"articles\": []}\n",
        "        for entry in d.entries:\n",
        "            if hasattr(entry, 'published'):\n",
        "                article = {}\n",
        "                article['link'] = entry.link\n",
        "                date = entry.published_parsed\n",
        "                article['published'] = datetime.fromtimestamp(mktime(date)).isoformat()\n",
        "                try:\n",
        "                    content = Article(entry.link)\n",
        "                    content.download()\n",
        "                    if content.title == [x for x in headlines]:\n",
        "                      print(\"Already captured\")\n",
        "                      pass\n",
        "                    else:\n",
        "                      content.parse()\n",
        "                      content.nlp()\n",
        "                except Exception as e:\n",
        "                    print(e)\n",
        "                    continue\n",
        "                article['title'] = content.title\n",
        "                headline.append(content.title) #changed from headlines.append to headline.append 12/8/2018\n",
        "                article['author'] = content.authors\n",
        "                article['text'] = content.text\n",
        "                article['keywords'] = content.keywords\n",
        "                article['summary'] = content.summary\n",
        "                #article['images'] = content.images #images generates a set, which cannot be saved in a dict\n",
        "                file['articles'].append(article)\n",
        "                print(count,\" RSS \",web, \" url: \", entry.link)\n",
        "                count = count + 1\n",
        "            data['feeds'][web] = file\n",
        "\n",
        "try:\n",
        "    with open('article.json', 'w') as outfile:\n",
        "        json.dump(data, outfile)\n",
        "except Exception as e:\n",
        "    print(e)\n",
        "try:\n",
        "    with open('headlines.txt', 'a+') as outfile:\n",
        "      json.dump(headline, outfile) #changed from headlines to headline 12/8/2018 to fix issue with exponentially growing file. \n",
        "except Exception as e:\n",
        "    print(e)"
      ],
      "execution_count": null,
      "outputs": [
        {
          "output_type": "stream",
          "text": [
            "1  RSS  google headlines  url:  https://www.foxnews.com/politics/george-hw-bushs-motorcade-departs-capitol-for-state-funeral\n",
            "2  RSS  google headlines  url:  https://www.salon.com/2018/12/05/mike-flynns-sentencing-memo-has-democrats-salivating/\n",
            "3  RSS  google headlines  url:  https://www.wsj.com/articles/u-k-releases-internal-facebook-emails-deliberating-data-access-1544022496\n",
            "4  RSS  google headlines  url:  https://www.npr.org/2018/12/05/673683966/wisconsin-lawmakers-vote-to-limit-powers-of-new-democratic-governor\n",
            "5  RSS  google headlines  url:  https://www.vox.com/policy-and-politics/2018/12/5/18127120/rudy-giuliani-tweet-cybersecurity-twitter-bias\n",
            "6  RSS  google headlines  url:  https://ktvq.com/news/trending/2018/12/05/family-identifies-body-found-in-costa-rica-as-missing-us-woman-2/\n",
            "7  RSS  google headlines  url:  https://www.huffingtonpost.com/entry/jeffrey-epstein-settles-defamation-sex-abuse_us_5c07c114e4b0fc236111e2db\n",
            "8  RSS  google headlines  url:  https://www.nbcnews.com/news/us-news/oklahoma-convicted-murderer-who-escaped-posing-cellmate-captured-st-louis-n944241\n",
            "9  RSS  google headlines  url:  https://www.bloomberg.com/news/articles/2018-12-05/u-k-trapped-in-irish-backstop-legal-advice-says-brexit-update\n",
            "10  RSS  google headlines  url:  https://www.cbsnews.com/news/strong-earthquake-south-pacific-ring-of-fire-tsunami-warnings-new-caledonia-today-2018-12-05/\n",
            "11  RSS  google headlines  url:  https://www.bbc.com/news/world-europe-46458604\n",
            "12  RSS  google headlines  url:  https://www.foxnews.com/world/mexicos-new-leader-says-relations-with-trump-good\n",
            "13  RSS  google headlines  url:  https://www.foxnews.com/auto/google-owned-waymo-launches-autonomous-ride-hailing-service-in-phoenix\n",
            "14  RSS  google headlines  url:  https://www.cnn.com/2018/12/05/business/gm-mary-barra-capitol-hill/index.html\n",
            "15  RSS  google headlines  url:  https://www.wsj.com/articles/behind-boeings-decision-to-omit-details-on-safety-system-in-lion-air-crash-from-manual-1544025884\n",
            "16  RSS  google headlines  url:  https://finance.yahoo.com/news/facebook-loses-top-spot-best-places-work-list-045957565.html\n",
            "17  RSS  google headlines  url:  https://www.engadget.com/2018/12/05/att-samsung-5g-phones-2019/\n",
            "18  RSS  google headlines  url:  https://www.theverge.com/2018/12/5/18127222/fortnite-creative-mode-season-7-release-date\n",
            "19  RSS  google headlines  url:  https://pocketnow.com/apple-airpods-patent\n",
            "20  RSS  google headlines  url:  https://www.macrumors.com/2018/12/05/ios-12-1-1-coming-today/\n",
            "21  RSS  google headlines  url:  https://www.rollingstone.com/music/music-news/cardi-b-split-offset-763348/\n",
            "22  RSS  google headlines  url:  https://www.cosmopolitan.com/entertainment/a25407172/meghan-markle-prince-harry-christmas-carol-pics/\n",
            "23  RSS  google headlines  url:  https://www.eonline.com/news/993365/priyanka-chopra-s-wedding-reception-look-took-12-000-hours-to-create\n",
            "24  RSS  google headlines  url:  http://www.tmz.com/2018/12/05/travis-scott-kylie-jenner-stormi-security-concerts-astroworld-tour/\n",
            "25  RSS  google headlines  url:  https://bleacherreport.com/articles/2808589-why-doesnt-anyone-want-to-play-with-lebron-anymore\n",
            "26  RSS  google headlines  url:  https://www.slamonline.com/postup/luka-doncic-clutch-performance-thwarts-blazers-rally/\n",
            "27  RSS  google headlines  url:  http://www.espn.com/mlb/story/_/id/25458391/does-corbin-joining-nats-signal-end-harper-dc\n",
            "28  RSS  google headlines  url:  https://weei.radio.com/blogs/ray-allen-explains-why-celtics-need-veteran-kyrie-irving-talked-about\n",
            "29  RSS  google headlines  url:  https://www.theverge.com/2018/12/5/18113714/spacex-falcon-9-rocket-iss-crs-16-dragon-capsule-watch-live\n",
            "30  RSS  google headlines  url:  https://spaceflightnow.com/2018/12/03/spacex-launches-swarm-of-satellites-re-flies-rocket-for-third-time/\n",
            "31  RSS  google headlines  url:  https://www.sciencedaily.com/releases/2018/12/181204090906.htm\n",
            "32  RSS  google headlines  url:  https://www.newdelhitimes.com/3-astronauts-safely-aboard-international-space-station/\n",
            "33  RSS  google headlines  url:  https://www.nytimes.com/2018/12/05/health/uterus-transplant-birth.html\n",
            "34  RSS  google headlines  url:  https://www.medicaldevice-network.com/news/university-of-queensland-test/\n",
            "35  RSS  google headlines  url:  https://www.mytwintiers.com/news/worldwide-search-on-for-extremely-rare-blood-needed-by-2-year-old-girl/1638948405\n",
            "36  RSS  google headlines  url:  https://www.cnn.com/2018/12/04/health/sleep-duration-linked-to-death-and-diseases-study-intl/index.html\n",
            "37  RSS  google world  url:  https://www.cnbc.com/2018/12/05/internal-facebook-emails-discuss-payments-for-data-special-access.html\n",
            "38  RSS  google world  url:  https://www.bloomberg.com/news/articles/2018-12-05/u-k-trapped-in-irish-backstop-legal-advice-says-brexit-update\n",
            "39  RSS  google world  url:  https://www.foxnews.com/world/mexicos-new-leader-says-relations-with-trump-good\n",
            "40  RSS  google world  url:  https://www.cbsnews.com/news/strong-earthquake-south-pacific-ring-of-fire-tsunami-warnings-new-caledonia-today-2018-12-05/\n",
            "41  RSS  google world  url:  https://www.washingtonexaminer.com/opinion/trumps-tariff-tweets-tank-markets-and-maybe-the-economy\n",
            "42  RSS  google world  url:  https://www.nytimes.com/2018/12/05/world/europe/yellow-vests-france.html\n",
            "43  RSS  google world  url:  https://www.nbcnews.com/politics/national-security/brother-saudi-crown-prince-returns-u-s-plans-attend-bush-n944206\n",
            "44  RSS  google world  url:  https://www.reuters.com/article/uk-britain-eu/mays-brexit-deal-under-fire-as-legal-advice-stiffens-opposition-idUSKBN1O418B\n",
            "45  RSS  google world  url:  https://www.foxnews.com/us/putin-if-us-develops-banned-missiles-so-will-russia\n",
            "46  RSS  google world  url:  https://www.salon.com/2018/12/05/yellow-vest-protesters-in-paris-and-green-new-dealers-at-home-future-comrades/\n",
            "47  RSS  google world  url:  https://www.washingtonexaminer.com/opinion/dear-conservatives-frances-yellow-jacket-protesters-are-not-our-friends\n",
            "48  RSS  google world  url:  https://edition.cnn.com/2018/12/05/europe/peta-meat-idioms-scli-intl/index.html\n",
            "49  RSS  google world  url:  https://www.huffingtonpost.com/entry/body-found-costa-rica-missing-florida-woman-carla-stefaniak_us_5a3197b8e4b091ca26851db1\n",
            "50  RSS  google world  url:  https://www.bbc.com/news/world-us-canada-46447955\n",
            "51  RSS  google world  url:  https://www.cnn.com/2018/12/03/politics/china-us-trump-xi-deal-intl/index.html\n",
            "52  RSS  google world  url:  https://www.aol.com/article/news/2018/12/05/video-shows-migrant-children-dropped-over-arizona-border-fence/23608988/\n",
            "53  RSS  google world  url:  https://www.bloomberg.com/news/articles/2018-12-05/urgent-the-latest-police-arrest-about-90-in-raids-on-italian-mafia\n",
            "54  RSS  google world  url:  https://www.cnn.com/2018/12/04/health/uterus-transplant-deceased-donor-study/index.html\n",
            "55  RSS  google world  url:  https://www.washingtonexaminer.com/opinion/why-irans-latest-missile-test-is-such-a-big-deal\n",
            "56  RSS  google world  url:  https://www.washingtonexaminer.com/opinion/david-attenborough-goes-way-over-the-top-on-climate-change\n",
            "57  RSS  google world  url:  https://www.huffingtonpost.com/entry/panama-papers-criminal-charges_us_5c07a797e4b0680a7ecaa204\n",
            "58  RSS  google world  url:  https://www.washingtonexaminer.com/opinion/israels-risky-but-crucial-tunnel-clearing-operation-against-hezbollah\n",
            "59  RSS  google world  url:  https://thinkprogress.org/china-russia-and-north-korea-are-smacking-down-president-trumps-tough-talk-8b0c4f467ac7/\n",
            "60  RSS  google world  url:  https://www.vox.com/2018/12/4/18125553/border-caravan-asylum-illegally\n",
            "61  RSS  google world  url:  https://www.ancient-origins.net/news-history-archaeology/medieval-skeleton-0011102\n",
            "62  RSS  google world  url:  https://www.nbcnews.com/news/world/afghanistan-becomes-world-s-deadliest-country-terrorism-overtaking-iraq-n942086\n",
            "63  RSS  google world  url:  https://nypost.com/2018/12/05/kim-jong-un-clears-schedule-for-historic-visit-to-seoul/\n",
            "64  RSS  google world  url:  https://www.reuters.com/article/us-ukraine-crisis-russia-military/russian-threat-highest-since-2014-ukraine-military-chief-idUSKBN1O32IV\n",
            "65  RSS  google world  url:  https://www.businessinsider.com/portugal-president-drooled-when-meeting-chinas-xi-jinping-2018-12\n",
            "66  RSS  google world  url:  https://www.cnn.com/2018/12/02/middleeast/jamal-khashoggi-whatsapp-messages-intl/index.html\n",
            "67  RSS  google world  url:  https://www.bbc.com/news/world-africa-46449954\n",
            "68  RSS  google world  url:  https://www.npr.org/2018/12/04/673401951/demonstrators-across-israel-protest-violence-against-women\n",
            "69  RSS  google world  url:  https://abcnews.go.com/International/gene-editing-chinese-scientist-reportedly-missing/story?id=59618448\n",
            "70  RSS  google world  url:  https://www.latimes.com/nation/la-na-el-chapo-trial-20181204-story.html\n",
            "71  RSS  google world  url:  https://www.newsweek.com/how-hanukkah-came-america-opinion-1241415\n",
            "72  RSS  google world  url:  https://www.cnn.com/2018/12/04/politics/bolton-north-korea-summit-commitments/index.html\n",
            "73  RSS  google world  url:  https://www.washingtonpost.com/politics/rep-chris-stewart-defends-trumps-response-to-khashoggi-killing-journalists-disappear-all-over-the-country/2018/12/04/f81fa53e-f803-11e8-8d64-4e79db33382f_story.html\n",
            "74  RSS  google world  url:  https://www.reuters.com/article/us-britain-eu-article50/britain-can-end-brexit-unilaterally-eu-court-advisor-says-idUSKBN1O30QK\n",
            "75  RSS  google world  url:  https://www.npr.org/2018/12/04/673246844/dutch-man-loses-bid-to-change-his-age-plans-to-appeal\n",
            "76  RSS  google world  url:  https://www.bbc.com/news/world-europe-46452894\n",
            "77  RSS  google world  url:  https://www.usatoday.com/story/news/politics/2018/12/05/donald-trump-tweets-dow/2212676002/\n",
            "Article `download()` failed with ('Received response with content-encoding: gzip, but failed to decode it.', error('Error -3 while decompressing data: incorrect header check',)) on URL https://www.huffingtonpost.com/entry/laura-ingraham-confederate-statues-isis_us_5c07926be4b0fc236111701b\n",
            "78  RSS  google world  url:  https://www.wsj.com/articles/danes-spar-over-island-to-house-deportees-1543958866\n",
            "79  RSS  google world  url:  https://www.independent.co.uk/news/long_reads/brexit-general-election-2017-eu-referendum-theresa-may-deal-leave-remain-a8601096.html\n",
            "80  RSS  google world  url:  https://www.cnn.com/2018/12/05/politics/global-terrorism-index-2018/index.html\n",
            "81  RSS  google world  url:  https://thehill.com/policy/energy-environment/419719-15-year-old-activist-addresses-world-leaders-at-un-climate\n",
            "82  RSS  google world  url:  https://www.nbcnews.com/news/world/nearly-four-dozen-suspected-mafia-members-including-newly-elected-boss-n943586\n",
            "83  RSS  google world  url:  https://www.reuters.com/article/us-ukraine-crisis-russia-grain-insight/caught-in-russia-ukraine-storm-a-cargo-ship-and-tonnes-of-grain-idUSKBN1O4128\n",
            "84  RSS  google world  url:  https://www.nytimes.com/2018/12/04/world/asia/indonesia-papua-construction-workers.html\n",
            "85  RSS  google world  url:  https://www.aljazeera.com/news/2018/12/hunger-striking-asylum-seekers-call-faster-border-processing-181204164501954.html\n",
            "86  RSS  google world  url:  https://www.businessinsider.com/huge-cave-discovered-canada-could-be-largest-2018-12\n",
            "87  RSS  google world  url:  https://www.nytimes.com/2018/12/04/world/middleeast/italy-egypt-giulio-regeni-killing.html\n",
            "88  RSS  google world  url:  https://www.cnn.com/2018/12/04/tech/digital-sales-tax-tech-europe/index.html\n",
            "89  RSS  google world  url:  https://www.latimes.com/local/california/la-me-israel-birthright-protest-20181204-story.html\n",
            "90  RSS  google world  url:  https://www.npr.org/2018/12/03/673105423/khashoggi-friend-accuses-cyber-security-firm-of-helping-saudis-spy-on-their-mess\n",
            "91  RSS  google world  url:  https://www.cnn.com/2018/12/04/politics/bob-menendez-khashoggi-cnntv/index.html\n",
            "92  RSS  google world  url:  https://www.foxnews.com/world/vatican-official-who-accused-pope-francis-of-covering-up-sex-abuse-is-battling-brother-over-multi-million-dollar-inheritance\n",
            "93  RSS  google world  url:  https://www.reuters.com/article/us-usa-iran/us-made-11-attempts-to-negotiate-with-iran-in-last-two-years-iran-president-idUSKBN1O32JO\n",
            "94  RSS  google world  url:  https://www.npr.org/2018/12/04/673250422/journalist-flies-home-to-the-philippines-to-face-arrest-warrant-posts-bail\n",
            "95  RSS  google world  url:  https://www.washingtonpost.com/lifestyle/style/the-guardian-offered-a-bombshell-story-about-paul-manafort-it-still-hasnt-detonated/2018/12/03/60e38182-f71c-11e8-863c-9e2f864d47e7_story.html\n",
            "96  RSS  google world  url:  https://www.aljazeera.com/news/2018/12/law-firm-myanmar-committed-genocide-rohingya-181204042107254.html\n",
            "97  RSS  google world  url:  https://www.cnn.com/2018/12/05/tech/australia-encryption-law/index.html\n",
            "98  RSS  google world  url:  https://www.cnn.com/2018/12/03/politics/mnuchin-trump-china-trade-argentina/index.html\n",
            "99  RSS  google world  url:  https://www.cnn.com/2018/12/04/politics/donald-trump-paris-yellow-vests/index.html\n",
            "100  RSS  google world  url:  https://www.cnbc.com/2018/12/03/robert-lighthizer-could-lead-trump-china-trade-talks-after-truce.html\n",
            "101  RSS  google world  url:  https://www.washingtonpost.com/world/austin-tices-parents-say-new-information-offers-further-hope-that-he-is-alive/2018/12/04/9b46ff35-76cd-4de6-8aac-da2b682568f9_story.html\n",
            "102  RSS  google world  url:  https://www.cnbc.com/2018/12/04/uk-spy-chief-raises-questions-over-chinas-5g-rollout.html\n",
            "103  RSS  google world  url:  https://www.cnn.com/2018/12/05/us/five-things-december-5-trnd/index.html\n",
            "104  RSS  google world  url:  https://www.youtube.com/watch?v=RFlt7slf91o\n",
            "Article `download()` failed with ('Received response with content-encoding: gzip, but failed to decode it.', error('Error -3 while decompressing data: incorrect header check',)) on URL https://www.huffingtonpost.com/entry/pope-francis-homosexuality-fashionable-gay-priests_us_5c06a557e4b0cd916fb08010\n",
            "105  RSS  google business  url:  https://www.foxnews.com/auto/google-owned-waymo-launches-autonomous-ride-hailing-service-in-phoenix\n",
            "106  RSS  google business  url:  http://local12.com/news/local/ohio-senators-to-meet-with-gm-general-motors-chief-over-plant-closing-rob-portman-sherrod-brown-lordstown-cincinnati-local12\n",
            "107  RSS  google business  url:  https://www.wsj.com/articles/behind-boeings-decision-to-omit-details-on-safety-system-in-lion-air-crash-from-manual-1544025884\n",
            "108  RSS  google business  url:  https://finance.yahoo.com/news/facebook-loses-top-spot-best-places-work-list-045957565.html\n",
            "109  RSS  google business  url:  https://www.cnbc.com/2018/12/05/flattening-yield-curve-means-its-time-to-worry-but-not-panic-economist.html\n",
            "110  RSS  google business  url:  https://seekingalpha.com/article/4226397-brookfield-property-partners-literally-best-time-ever-buy-7_1-percent-yielding-blue-chip\n",
            "111  RSS  google business  url:  https://www.nj.com/mercer/2018/12/80-workers-at-amazon-warehouse-in-nj-treated-after-being-sickened-by-bear-repellant.html\n",
            "112  RSS  google business  url:  https://www.npr.org/2018/12/05/673686983/cuba-will-allow-full-internet-on-mobile-phones-starting-thursday\n",
            "113  RSS  google business  url:  https://www.foxbusiness.com/business-leaders/who-is-sundar-pichai-google-ceo-at-center-of-political-bias-dispute\n",
            "114  RSS  google business  url:  https://www.eonline.com/news/993320/les-moonves-had-an-employee-on-call-for-oral-sex-report\n",
            "115  RSS  google business  url:  https://www.investors.com/market-trend/stock-market-today/dow-jones-futures-stock-market-rally-apple-stock-market-rally-s-and-p-500-earnings/\n",
            "116  RSS  google business  url:  http://www.wdrb.com/story/39586857/new-recall-includes-raw-beef-sold-at-kentucky-and-indiana-kroger-stores\n",
            "117  RSS  google business  url:  https://www.forbes.com/sites/billybambrough/2018/12/05/bitcoin-bear-market-and-crypto-winter-sparks-ethereum-changes/\n",
            "118  RSS  google business  url:  https://www.wxyz.com/news/dog-food-recall-expanded-due-to-toxic-levels-of-vitamin-d\n",
            "119  RSS  google business  url:  https://www.foxnews.com/travel/hotel-guest-suing-hilton-for-100-million-claims-perv-filmed-her-showering-and-used-footage-to-blackmail-her\n",
            "120  RSS  google business  url:  https://oilprice.com/Energy/Crude-Oil/The-Most-Likely-Outcome-Of-The-OPEC-Meeting.html\n",
            "121  RSS  google business  url:  https://abc13.com/food/get-whopper-for-penny-as-burger-king-trolls-mcdonalds-/4837295/\n",
            "122  RSS  google business  url:  https://www.cnet.com/news/trump-panel-proposes-postal-reforms-that-could-raise-amazon-shipping-costs/\n",
            "123  RSS  google business  url:  https://www.cnbc.com/2018/12/05/trump-says-he-hopes-opec-will-be-keeping-oil-flows-as-is.html\n",
            "124  RSS  google business  url:  https://www.yahoo.com/lifestyle/american-airlines-claims-story-passenger-abandoned-wheelchair-overnight-false-according-investigation-185906201.html\n",
            "125  RSS  google business  url:  https://www.washingtonexaminer.com/opinion/editorials/trumps-best-play-stand-aside-and-let-coal-country-become-gas-country\n",
            "126  RSS  google business  url:  https://www.businessinsider.com/nyc-sets-minimum-wage-for-uber-and-lyft-drivers-2018-12\n",
            "127  RSS  google business  url:  https://www.goodmorningamerica.com/food/story/25-days-cookies-mm-christmas-cookie-bars-pinterests-59589054\n",
            "128  RSS  google business  url:  https://www.wane.com/news/national-world/chp-may-have-used-tesla-autopilot-to-stop-speeding-car/1638665710\n",
            "129  RSS  google business  url:  https://www.japantimes.co.jp/news/2018/12/05/business/corporate-business/nissan-rejects-renaults-request-send-successor-replace-ghosn/\n",
            "130  RSS  google business  url:  https://www.thetruthaboutcars.com/2018/12/a-new-alliance-volkswagen-and-ford-in-talks-to-share-u-s-plants/\n",
            "131  RSS  google business  url:  https://www.newsweek.com/back-basics-buy-old-school-toys-and-limit-video-games-young-children-1242493\n",
            "132  RSS  google business  url:  https://www.businessinsider.com/lularoe-lawsuit-supplier-demands-assets-after-ceos-alleged-threats-2018-12\n",
            "133  RSS  google business  url:  https://www.dallasobserver.com/news/irving-company-set-to-become-us-local-news-behemoth-11398032\n",
            "134  RSS  google business  url:  https://www.nj.com/entertainment/2018/12/heres-how-to-get-free-cheesecake-from-the-cheesecake-factory-right-now.html\n",
            "135  RSS  google business  url:  https://www.investors.com/market-trend/stock-market-today/market-applauds-truce-in-trade-war-what-about-leading-stocks/\n",
            "136  RSS  google business  url:  https://www.geekwire.com/2018/didnt-know-quora-account-latest-internet-data-breach-appears-surprise-many/\n",
            "137  RSS  google business  url:  http://www.newser.com/story/268180/marlboro-maker-exploring-legal-pot-possibilities.html\n",
            "138  RSS  google business  url:  https://www.wtae.com/article/secret-santa-pays-off-nearly-dollar30k-in-walmart-layaways-at-pennsylvania-store/25396907\n",
            "139  RSS  google business  url:  http://kutv.com/news/local/celebrate-national-cookie-day-at-these-5-local-sweet-shops\n",
            "140  RSS  google business  url:  https://www.wivb.com/news/national/robot-mop-to-clean-floors-at-walmart-stores/1638095497\n",
            "141  RSS  google business  url:  https://www.cnn.com/2018/12/05/tech/huawei-5g-bt-technology/index.html\n",
            "142  RSS  google business  url:  https://www.khon2.com/news/local-news/marriott-to-pay-for-new-passports-following-massive-data-breach/1638827229\n",
            "143  RSS  google business  url:  https://abc7chicago.com/food/chicago-chain-tops-list-of-best-fast-casual-restaurants/4831761/\n",
            "144  RSS  google business  url:  https://jalopnik.com/volkswagen-says-it-will-increase-u-s-production-by-par-1830865897\n",
            "145  RSS  google business  url:  https://www.nbcnews.com/business/business-news/thomson-reuters-cut-3-200-jobs-next-two-years-n943541\n",
            "146  RSS  google business  url:  https://www.cnn.com/2018/12/05/business/maersk-carbon-emissions-shipping/index.html\n",
            "147  RSS  google business  url:  https://boingboing.net/2018/12/05/worst-of-breed.html\n",
            "148  RSS  google business  url:  https://www.cnn.com/2018/12/05/business/kroger-walgreens-mini-stores/index.html\n",
            "149  RSS  google business  url:  https://www.denverpost.com/2018/12/04/xcel-energy-carbon-free-electricity-2050/\n",
            "150  RSS  google business  url:  https://www.reuters.com/article/us-brazil-corruption-petrobras/glencore-trafigura-vitol-bribed-petrobras-staff-brazil-prosecutors-idUSKBN1O41EC\n",
            "151  RSS  google business  url:  https://www.nytimes.com/2018/12/05/business/global-markets.html\n",
            "152  RSS  google business  url:  https://www.thrillist.com/news/nation/cheesecake-factory-free-cheesecake-doordash-2018\n",
            "153  RSS  google business  url:  https://www.cbsnews.com/news/christmas-trees-artificial-or-real-debate/\n",
            "154  RSS  google business  url:  https://www.foxbusiness.com/healthcare/cvs-offers-guaranteed-net-cost-for-pharmacy-benefit-clients\n",
            "155  RSS  google business  url:  https://www.newsherald.com/news/20181204/bay-medical-to-lay-off-half-its-staff---up-to-800-people---after-hurricane-michael\n",
            "156  RSS  google business  url:  https://www.wsj.com/articles/how-dicks-sporting-goods-decided-to-change-its-gun-policy-1543955262\n",
            "157  RSS  google business  url:  https://www.valleynewslive.com/content/news/Amusement-park-finds-wallet-lost-nearly-4-years-ago-501873191.html\n",
            "158  RSS  google business  url:  https://www.bloomberg.com/news/articles/2018-12-04/fed-s-williams-says-strong-economy-warrants-further-rate-hikes\n",
            "159  RSS  google business  url:  https://finance.yahoo.com/news/housing-market-recession-coming-224827298.html\n",
            "160  RSS  google business  url:  https://abcnews.go.com/Business/wells-fargo-customer-explains-computer-glitch-cost-home/story?id=59600021\n",
            "161  RSS  google business  url:  https://www.nytimes.com/2018/12/03/travel/san-francisco-marriott-strike-over.html\n",
            "162  RSS  google business  url:  https://www.mmm-online.com/home/channel/roundup/five-things-for-pharma-marketers-to-know-wednesday-december-5-2018/\n",
            "163  RSS  google business  url:  https://www.thestreet.com/technology/hewlett-packard-tops-q4-estimates-14800799\n",
            "164  RSS  google business  url:  https://www.engadget.com/2018/12/05/amazon-prime-video-x1-comcast/\n",
            "165  RSS  google business  url:  https://nypost.com/2018/12/05/money-from-marijuana-legalization-could-fix-mta-report/\n",
            "166  RSS  google business  url:  https://www.wlns.com/news/michigan/michigan-apple-orchard-owners-to-retire-after-40-years-1/1639977221\n",
            "167  RSS  google business  url:  https://cleantechnica.com/2018/12/04/tesla-model-3-is-coming-to-the-land-of-ev-confusion/\n",
            "Article `download()` failed with 403 Client Error: Forbidden for url: https://www.huffingtonpost.com/entry/tumblr-sex-workers-nsfw-artists-lose_us_5c0714fbe4b0fc236111037e on URL https://www.huffingtonpost.com/entry/tumblr-sex-workers-nsfw-artists-lose_us_5c0714fbe4b0fc236111037e\n",
            "168  RSS  google business  url:  https://www.local10.com/news/a-singing-baby-shark-doll-is-hitting-amazon-this-month\n",
            "169  RSS  google business  url:  https://www.cnn.com/travel/article/cruise-critic-editors-picks-2018/index.html\n",
            "170  RSS  google business  url:  https://ny.curbed.com/2018/12/4/18124711/mta-nyc-subway-fare-evasion-andy-byford\n",
            "171  RSS  google business  url:  https://www.japantimes.co.jp/news/2018/12/05/business/corporate-business/vw-says-next-generation-combustion-cars-will-last/\n",
            "172  RSS  google business  url:  https://www.greencarreports.com/news/1120265_trump-administration-plans-to-end-electric-car-tax-credits\n",
            "173  RSS  google business  url:  https://www.defenseone.com/business/2018/12/airbus-looks-pounce-boeing-struggles-deliver-first-tanker/153263/\n",
            "174  RSS  google nation  url:  https://www.youtube.com/watch?v=68psaUc5EnM\n",
            "175  RSS  google nation  url:  https://www.cnbc.com/2018/12/05/michael-flynn-developments-suggest-muellers-russia-probe-has-more-in-store.html\n",
            "176  RSS  google nation  url:  https://www.vox.com/policy-and-politics/2018/12/5/18127120/rudy-giuliani-tweet-cybersecurity-twitter-bias\n",
            "177  RSS  google nation  url:  https://www.aol.com/article/news/2018/12/05/father-ids-body-of-florida-woman-slain-in-costa-rica/23609164/\n",
            "178  RSS  google nation  url:  https://www.huffingtonpost.com/entry/jeffrey-epstein-settles-defamation-sex-abuse_us_5c07c114e4b0fc236111e2db\n",
            "179  RSS  google nation  url:  https://www.nbcnews.com/news/us-news/oklahoma-convicted-murderer-who-escaped-posing-cellmate-captured-st-louis-n944241\n",
            "180  RSS  google nation  url:  https://www.npr.org/2018/12/05/673683966/wisconsin-lawmakers-vote-to-limit-powers-of-new-democratic-governor\n",
            "181  RSS  google nation  url:  https://www.cnn.com/videos/politics/2018/12/03/trump-russia-mueller-investigation-stone-elie-honig-nr-vpx.cnn\n",
            "182  RSS  google nation  url:  https://www.washingtonexaminer.com/opinion/george-h-w-bushs-funeral-invitation-to-trump-completes-his-legacy-of-noble-civility\n",
            "183  RSS  google nation  url:  https://www.foxnews.com/us/teacher-who-spoiled-santa-will-not-return-to-school\n",
            "184  RSS  google nation  url:  https://www.cnbc.com/2018/12/04/ocasio-cortez-and-warren-buffett-agree-on-this-key-point-about-taxes.html\n",
            "185  RSS  google nation  url:  https://www.wwaytv3.com/2018/12/04/sheriff-hero-homeowner-kills-escaped-inmate/\n",
            "186  RSS  google nation  url:  https://www.nj.com/expo/news/erry-2018/12/f8cc5c91cc6144/nj-weather-up-to-3-inches-of-s.html\n",
            "187  RSS  google nation  url:  https://thehill.com/homenews/campaign/419757-electoral-fraud-claims-roil-north-carolina-house-race\n",
            "188  RSS  google nation  url:  https://www.cnn.com/2018/12/03/politics/trump-bush-political-unity/index.html\n",
            "189  RSS  google nation  url:  https://www.bbc.com/news/world-us-canada-46453544\n",
            "190  RSS  google nation  url:  https://www.washingtonpost.com/politics/avenatti-takes-himself-out-of-the-running-for-president-in-2020/2018/12/04/68385e32-f7e7-11e8-8c9a-860ce2a8148f_story.html\n",
            "191  RSS  google nation  url:  https://www.aol.com/video/view/sully-the-service-dog-lies-by-george-h-w-bush-s-casket-in-touching-photo/5c05a3280822e858d1e86e60/\n",
            "192  RSS  google nation  url:  https://www.reuters.com/article/us-usa-politics-women/badass-national-security-women-offer-democrats-a-trump-antidote-idUSKBN1O419I\n",
            "193  RSS  google nation  url:  https://www.npr.org/2018/12/05/673464251/trump-emoluments-case-a-blast-of-subpoenas-and-a-politically-risky-schedule\n",
            "194  RSS  google nation  url:  https://www.foxnews.com/politics/national-republican-congressional-committee-suffered-cyber-intrusion-spokesman-says\n",
            "195  RSS  google nation  url:  https://www.youtube.com/watch?v=OSaH-c8qPMM\n",
            "196  RSS  google nation  url:  https://www.nydailynews.com/news/politics/ny-pol-roger-stone-fifth-amendment-senate-trump-20181204-story.html\n",
            "197  RSS  google nation  url:  https://www.newsweek.com/alexandria-ocasio-cortez-grilled-about-intern-pay-explains-budget-time-walk-1244956\n",
            "198  RSS  google nation  url:  http://wnbf.com/missing-girl-found-in-nyc-man-taken-into-custody/\n",
            "199  RSS  google nation  url:  https://www.foxnews.com/politics/officials-may-toss-house-result-over-fraud\n",
            "200  RSS  google nation  url:  https://www.youtube.com/watch?v=FYqGEAj0OnY\n",
            "201  RSS  google nation  url:  https://www.cnn.com/2018/12/03/politics/donald-trump-roger-stone-guts-robert-mueller-michael-cohen-tweets/index.html\n",
            "202  RSS  google nation  url:  https://www.bloomberg.com/opinion/articles/2018-12-04/trump-s-embrace-of-tariffs-hurts-u-s-consumers-more-than-china\n",
            "203  RSS  google nation  url:  https://www.aol.com/article/news/2018/12/05/fox-news-host-laura-ingraham-likens-people-protesting-confederate-statues-to-isis/23609148/\n",
            "204  RSS  google nation  url:  https://www.washingtonexaminer.com/opinion/michelle-obama-is-succeeding-where-hillary-clinton-failed-miserably\n",
            "205  RSS  google nation  url:  https://www.foxnews.com/politics/joe-biden-says-hes-most-qualified-person-in-the-country-to-be-president\n",
            "206  RSS  google nation  url:  https://www.nbcnews.com/politics/elections/republican-brad-raffensperger-wins-runoff-georgia-secretary-state-n943946\n",
            "207  RSS  google nation  url:  https://www.cnn.com/2018/12/04/us/colorado-boy-snowball-fights-law-trnd/index.html\n",
            "208  RSS  google nation  url:  https://www.cnn.com/2018/12/02/us/nyc-engagement-ring-grate-trnd/index.html\n",
            "209  RSS  google nation  url:  http://katu.com/news/nation-world/sheriff-11-still-missing-after-deadly-california-wildfire\n",
            "210  RSS  google nation  url:  https://www.foxnews.com/us/teacher-says-catholic-school-fired-her-over-her-pregnancy\n",
            "211  RSS  google nation  url:  https://www.cnbc.com/2018/12/03/robert-lighthizer-could-lead-trump-china-trade-talks-after-truce.html\n",
            "212  RSS  google nation  url:  https://www.washingtonpost.com/weather/2018/12/05/dc-area-forecast-snow-showers-or-flurries-possible-today-more-significant-snow-chance-sunday-into-monday/\n",
            "213  RSS  google nation  url:  https://www.ksl.com/article/46440397/utah-man-accused-of-torturing-roommate-is-arrested\n",
            "214  RSS  google nation  url:  https://www.cbsnews.com/news/texas-7-gang-member-joseph-garcia-execution-today-2018-12-04/\n",
            "215  RSS  google nation  url:  https://www.youtube.com/watch?v=yoqlTwE4xVY\n",
            "216  RSS  google nation  url:  https://www.washingtonexaminer.com/news/army-soldier-who-watched-hours-of-isis-propaganda-sentenced-to-25-years-behind-bars\n",
            "217  RSS  google nation  url:  https://www.vox.com/policy-and-politics/2018/12/4/18126061/tariff-man-trump-china-tweets-memes-stock-market\n",
            "218  RSS  google nation  url:  https://www.nbcnews.com/politics/politics-news/lame-duck-push-michigan-republicans-vote-gut-wage-paid-leave-n943741\n",
            "219  RSS  google nation  url:  https://thinkprogress.org/trump-claims-border-wall-pay-for-itself-in-two-months-fact-check-1dbc50f34012/\n",
            "220  RSS  google nation  url:  https://www.snopes.com/ap/2018/12/04/recording-students-sing-racist-song-about-kkk-to-jingle-bells/\n",
            "221  RSS  google nation  url:  http://komonews.com/news/nation-world/police-officer-hit-on-interstate-clings-to-hood-of-car-doing-80-mph-survives-wild-ordeal\n",
            "222  RSS  google nation  url:  https://www.cnn.com/2018/12/03/us/alabama-mall-shooting-independent-medical-report/index.html\n",
            "223  RSS  google nation  url:  https://www.npr.org/2018/12/05/673366840/turbulent-trump-era-may-unseat-the-guardian-of-the-new-hampshire-primary\n",
            "224  RSS  google nation  url:  https://www.cnn.com/2018/12/03/us/unc-silent-sam-statue/index.html\n",
            "225  RSS  google nation  url:  https://www.npr.org/2018/12/04/673422143/satanic-sculpture-installed-at-illinois-statehouse-just-in-time-for-the-holidays\n",
            "226  RSS  google nation  url:  https://www.cnn.com/2018/12/03/us/baltimore-good-samaritan-stabbed/index.html\n",
            "227  RSS  google nation  url:  https://www.nbcnews.com/news/us-news/nypd-deploy-drone-fleet-stoking-fears-big-brother-n943876\n",
            "228  RSS  google nation  url:  https://www.cbsnews.com/news/maine-andrea-balcer-fatal-stabbings-parents-pet-dog-sentenced-40-years-today-2018-12-05/\n",
            "229  RSS  google nation  url:  https://www.cnn.com/2018/12/03/politics/trump-lawsuit-foreign-gifts-emoluments-hotel/index.html\n",
            "230  RSS  google nation  url:  https://www.washingtonpost.com/politics/grassley-offers-trump-some-advice-on-his-tweets-show-them-to-your-wife-first/2018/12/04/91200d58-f7f2-11e8-8c9a-860ce2a8148f_story.html\n",
            "231  RSS  google nation  url:  https://www.cnn.com/2018/12/04/business/german-automakers-meet-trump/index.html\n",
            "232  RSS  google nation  url:  https://thehill.com/homenews/administration/419656-court-rules-encouraging-undocumented-immigrants-to-enter-us-is\n",
            "233  RSS  google nation  url:  https://www.actionnewsnow.com/content/news/Musician-Raised-in-Paradise-Pens-Lament-For-His-Town-501749981.html\n",
            "234  RSS  google nation  url:  https://nypost.com/2018/12/04/city-hall-in-chaos-as-de-blasio-admits-he-bungled-oem-chiefs-ouster/\n",
            "235  RSS  google nation  url:  https://www.nj.com/expo/news/erry-2018/12/9b9a9ccae41728/5-moments-from-katie-brennans.html\n",
            "236  RSS  google nation  url:  https://www.youtube.com/watch?v=d_RMUiBKiPI\n",
            "237  RSS  google nation  url:  https://www.youtube.com/watch?v=EusxDim7VtY\n",
            "238  RSS  google nation  url:  https://www.foxnews.com/politics/how-avenattis-2020-aspirations-fizzled-skeletons-came-to-light\n",
            "239  RSS  google nation  url:  https://www.cnn.com/2018/12/05/us/watts-transferred-out-of-colorado/index.html\n",
            "240  RSS  google nation  url:  https://www.youtube.com/watch?v=gdHsbbRxP8A\n",
            "241  RSS  google nation  url:  https://www.cnn.com/2018/12/04/us/pennsylvania-catholic-clergy-abuse/index.html\n",
            "242  RSS  google nation  url:  https://www.cnn.com/2018/12/04/us/charlottesville-james-fields-trial-tuesday/index.html\n",
            "Article `download()` failed with ('Received response with content-encoding: gzip, but failed to decode it.', error('Error -3 while decompressing data: incorrect header check',)) on URL https://www.huffingtonpost.com/entry/arnold-schwarzenegger-trump-poland-climate-summit_us_5c05c885e4b0cd916faf034b\n",
            "243  RSS  google health  url:  https://www.nytimes.com/2018/12/05/health/uterus-transplant-birth.html\n",
            "244  RSS  google health  url:  https://www.medicaldevice-network.com/news/university-of-queensland-test/\n",
            "245  RSS  google health  url:  https://www.mytwintiers.com/news/worldwide-search-on-for-extremely-rare-blood-needed-by-2-year-old-girl/1638948405\n",
            "246  RSS  google health  url:  https://www.cnn.com/2018/12/04/health/sleep-duration-linked-to-death-and-diseases-study-intl/index.html\n",
            "247  RSS  google health  url:  https://www.vox.com/science-and-health/2018/11/30/18119589/crispr-technology-he-jiankui\n",
            "248  RSS  google health  url:  https://www.wesh.com/article/2-year-old-girl-battling-cancer-needs-extremely-rare-blood-sparking-worldwide-search/25407712\n",
            "249  RSS  google health  url:  https://www.wapt.com/article/health-officials-urge-flu-shots-after-laboratory-confirms-case-in-mississippi/25396664\n",
            "250  RSS  google health  url:  https://www.foxnews.com/health/cases-of-polio-like-illness-thats-paralyzing-children-appears-to-have-peaked-cdc-says\n",
            "251  RSS  google health  url:  https://patch.com/illinois/romeoville/mumps-outbreak-romeoville-campus-lewis-university\n",
            "252  RSS  google health  url:  https://www.statnews.com/2018/12/04/conducting-ebola-clinical-trial-war-zone/\n",
            "253  RSS  google health  url:  https://munchies.vice.com/en_us/article/vbayyb/harvard-professor-who-hates-joy-says-we-should-only-eat-6-fries-at-a-time\n",
            "254  RSS  google health  url:  http://nj1015.com/children-were-dying-and-state-health-officials-had-no-idea/\n",
            "Article `download()` failed with 404 Client Error: Not Found for url: https://komonews.com/error on URL https://komonews.com/news/nation-world/cdc-invasive-tick-species-rapidly-spreading-throughout-us\n",
            "255  RSS  google health  url:  https://www.bmj.com/content/363/bmj.k5118\n",
            "256  RSS  google health  url:  https://www.npr.org/sections/health-shots/2018/12/05/673700889/infections-may-raise-the-risk-of-mental-illness-in-children\n",
            "257  RSS  google health  url:  https://www.theguardian.com/world/2018/dec/04/should-we-even-consider-this-who-starts-work-on-gene-editing-ethics\n",
            "258  RSS  google health  url:  http://wjon.com/dnr-plans-2-december-deer-hunts-to-manage-wasting-disease/\n",
            "259  RSS  google health  url:  https://www.post-gazette.com/business/healthcare-business/2018/12/04/medical-marijuana-Pennsylvania-permit-dispensary-University-of-Pittsburgh-clinical-registrant-research/stories/201812040024\n",
            "260  RSS  google health  url:  https://yle.fi/uutiset/osasto/news/thousands_in_finland_may_have_missed_measles_vaccine/10540943\n",
            "261  RSS  google health  url:  https://www.live5news.com/2018/12/05/an-eel-somehow-got-stuck-monk-seals-nose-its-rare-it-happens/\n",
            "262  RSS  google health  url:  https://bigthink.com/surprising-science/early-puberty-caused-by-cosmetic-products\n",
            "263  RSS  google health  url:  https://www.wcpo.com/news/local-news/kenton-county/covington/cafeteria-worker-at-covington-elementary-school-diagnosed-with-hepatitis-a\n",
            "264  RSS  google health  url:  https://www.wfsb.com/news/case-of-bacterial-meningitis-confirmed-at-ccsu/article_646a8d0c-f701-11e8-9c24-5bbc10412a7b.html\n",
            "265  RSS  google health  url:  https://www.sciencedaily.com/releases/2018/12/181203115449.htm\n",
            "266  RSS  google health  url:  https://www.aol.com/article/lifestyle/2018/12/03/womans-husky-sniffs-out-cancer-for-the-third-time-i-owe-my-life-to-that-dog/23607449/\n",
            "267  RSS  google health  url:  https://www.valleynewslive.com/content/news/First-case-of-rare-disorder-confirmed-in-North-Dakota-501867282.html\n",
            "268  RSS  google health  url:  http://www.staradvertiser.com/2018/12/04/breaking-news/university-of-hawaii-researchers-develop-potential-zika-vaccine/\n",
            "269  RSS  google health  url:  https://www.cnn.com/2018/12/03/health/statin-side-effects-benefits-study/index.html\n",
            "270  RSS  google health  url:  https://www.medicalnewstoday.com/articles/323881.php\n",
            "271  RSS  google health  url:  https://learningenglish.voanews.com/a/in-congo-more-women-than-men-infected-with-ebola/4686698.html\n",
            "272  RSS  google health  url:  https://www.statnews.com/2018/12/05/1918-spanish-flu-unraveling-mystery/\n",
            "273  RSS  google health  url:  https://www.medicalnewstoday.com/articles/323885.php\n",
            "274  RSS  google health  url:  https://www.nbcnews.com/health/health-news/fda-approves-drug-dogs-scared-noise-n943516\n",
            "275  RSS  google health  url:  https://9to5mac.com/2018/12/04/researchers-develop-cross-platform-app-to-test-for-anemia-with-a-single-photo/\n",
            "276  RSS  google health  url:  https://www.washingtonpost.com/national/health-science/trump-administration-threatens-future-of-hiv-research-hub/2018/12/04/f2e8e0ec-f7dd-11e8-863c-9e2f864d47e7_story.html\n",
            "277  RSS  google health  url:  https://www.dailymail.co.uk/news/article-6457091/Removal-wisdom-teeth-lead-opioid-addiction-researchers-claim.html\n",
            "278  RSS  google health  url:  http://fortune.com/2018/12/03/blood-pressure-drugs-recalled-valsartan-amlopidine-losartan-irbesartan-hypertension-fda/\n",
            "279  RSS  google health  url:  https://www.businessinsider.com/quiz-how-lonely-are-you-cigna-2018-12\n",
            "280  RSS  google health  url:  https://www.wcax.com/content/news/Survivor-of-devastating-attack-faces-new-setback-501922512.html\n",
            "281  RSS  google health  url:  https://www.bostonherald.com/2018/12/05/study-gun-violence-driving-down-african-american-life-expectancy/\n",
            "282  RSS  google health  url:  https://www.dailymail.co.uk/news/article-6461261/Australian-scientists-claim-cure-obesity-identifying-fat-gene.html\n",
            "283  RSS  google health  url:  https://www.latimes.com/local/california/la-me-ln-legionnaires-appeal-20181204-story.html\n",
            "284  RSS  google health  url:  https://www.wthr.com/article/ask-doctor-seasonal-affective-disorder-can-drive-mood-changes\n",
            "285  RSS  google health  url:  https://www.cnn.com/2018/12/03/us/opioid-addict-family-lawsuit/index.html\n",
            "286  RSS  google health  url:  https://www.cbsnews.com/news/high-cost-of-insulin-some-diabetics-cut-back/\n",
            "287  RSS  google health  url:  https://www.foxnews.com/health/hospital-investigating-after-mom-claims-staff-ignored-ill-baby\n",
            "288  RSS  google health  url:  https://boingboing.net/2018/12/03/sculptor-diagnosed-with-heavy.html\n",
            "289  RSS  google health  url:  https://www.treehugger.com/natural-sciences/beauty-products-and-household-chemicals-linked-early-puberty-girls.html\n",
            "290  RSS  google health  url:  https://www.oregonlive.com/expo/news/erry-2018/12/8513c60f601126/list-of-amlodipine-and-valsart.html\n",
            "291  RSS  google health  url:  https://thetakeout.com/student-intermittent-fasting-5-2-diet-weight-loss-1830880770\n",
            "292  RSS  google health  url:  https://bgr.com/2018/12/04/auxetic-material-gets-thicker-as-you-stretch-it/\n",
            "293  RSS  google health  url:  https://www.foxnews.com/health/woman-claims-she-lost-eye-parasite-got-stuck-behind-contact-lens-during-shower\n",
            "294  RSS  google health  url:  https://www.dailymail.co.uk/health/article-6459373/Why-did-fentanyl-easiest-cheapest-drug-make-meet-rise-addiction.html\n",
            "295  RSS  google health  url:  https://www.quantamagazine.org/what-defines-a-stem-cell-scientists-rethink-the-answer-20181204/\n",
            "296  RSS  google health  url:  https://www.usatoday.com/story/news/2018/12/04/national-geographic-has-put-together-collection-amazing-photos/2196477002/\n",
            "297  RSS  google health  url:  https://www.wcpo.com/news/health/hepatitis-a-outbreak-continues-in-greater-cincinnati-with-hundreds-of-cases\n",
            "298  RSS  google health  url:  https://www.reuters.com/article/us-health-cancer-drugs/despite-innovation-europeans-wait-years-for-new-cancer-drugs-idUSKBN1O300B\n",
            "299  RSS  google health  url:  https://talkingpointsmemo.com/news/tomi-lahren-becomes-latest-to-fear-monger-about-caravan-of-diseases\n",
            "300  RSS  google health  url:  https://www.salon.com/2018/12/03/why-public-health-experts-are-worried-about-5g-the-next-generation-of-cell-network/\n",
            "301  RSS  google health  url:  https://www.theguardian.com/society/2018/dec/04/children-of-obese-parents-more-likely-to-be-obese-survey-finds\n",
            "302  RSS  google health  url:  https://www.sciencedaily.com/releases/2018/12/181203131112.htm\n",
            "303  RSS  google health  url:  https://medicalxpress.com/news/2018-12-workout-boost-metabolism-days.html\n",
            "304  RSS  google health  url:  https://www.wkyt.com/content/news/Southern-Kentucky-Zaxbys-worker-diagnosed-with-hepatitis-A-501828451.html\n",
            "305  RSS  google health  url:  https://www.nbcnews.com/storyline/americas-heroin-epidemic/why-would-anyone-cut-heroin-fentanyl-it-s-cheap-these-n943796\n",
            "306  RSS  google health  url:  https://www.yahoo.com/lifestyle/dad-unknowingly-captured-daughters-cancer-symptom-photo-155519438.html\n",
            "307  RSS  google health  url:  https://www.timesofisrael.com/500-british-kids-get-emergency-vaccinations-after-measles-spreads-from-israel/\n",
            "308  RSS  google health  url:  https://www.baltimoresun.com/health/bs-hs-garlic-for-lyme-disease-20181203-story.html\n",
            "309  RSS  google health  url:  https://health.spectator.co.uk/is-being-a-night-owl-bad-for-your-health/\n",
            "310  RSS  google health  url:  https://www.sciencedaily.com/releases/2018/12/181204143908.htm\n",
            "311  RSS  google health  url:  https://www.dailymail.co.uk/health/article-6455645/Face-transplant-restored-26-year-old-suicide-survivor-cost-1-5-million.html\n",
            "312  RSS  google sports  url:  https://bleacherreport.com/articles/2808589-why-doesnt-anyone-want-to-play-with-lebron-anymore\n",
            "313  RSS  google sports  url:  https://www.slamonline.com/postup/luka-doncic-clutch-performance-thwarts-blazers-rally/\n",
            "314  RSS  google sports  url:  http://www.espn.com/mlb/story/_/id/25458391/does-corbin-joining-nats-signal-end-harper-dc\n",
            "315  RSS  google sports  url:  https://weei.radio.com/blogs/ray-allen-explains-why-celtics-need-veteran-kyrie-irving-talked-about\n",
            "316  RSS  google sports  url:  https://www.cbssports.com/nfl/news/richard-sherman-has-a-theory-for-why-the-redskins-wont-sign-colin-kaepernick/\n",
            "317  RSS  google sports  url:  https://www.phillyvoice.com/local-expert-novacare-markelle-fultz-injury-sixers-thoracic-outlet-syndrome-facts-news-updates/\n",
            "318  RSS  google sports  url:  https://www.npr.org/2018/12/05/673617719/space-needle-meet-lord-stanley-seattle-is-getting-its-own-nhl-team\n",
            "319  RSS  google sports  url:  https://www.mmamania.com/2018/12/4/18123239/ufc-231-fox-sports-1-prelims-preview-predictions-undercard-preview-holloway-ortega-toronto-mma\n",
            "320  RSS  google sports  url:  https://n.rivals.com/news/recruits-react-to-mike-locksley-s-return-to-maryland\n",
            "321  RSS  google sports  url:  https://www.bloodyelbow.com/2018/12/5/18126669/ufc-229-dana-white-lays-out-worst-case-scenario-for-khabib-nurmagomedov-conor-mcgregor-mma-news\n",
            "322  RSS  google sports  url:  https://sports.yahoo.com/packers-interim-coach-joe-philbin-fires-lb-coach-winston-tweets-leadership-030155874.html\n",
            "323  RSS  google sports  url:  https://www.elevenwarriors.com/ohio-state-football/2018/12/100342/four-star-offensive-tackle-jake-wray-decommits-from-ohio-state-following-urban-meyers-retirement\n",
            "324  RSS  google sports  url:  https://www.washingtonexaminer.com/opinion/urban-meyer-and-usc-would-be-a-match-made-in-hell\n",
            "325  RSS  google sports  url:  https://www.usatoday.com/story/sports/nfl/saints/2018/12/05/walmart-customers-get-layaway-items-paid-saints-owner-gayle-benson/2212765002/\n",
            "326  RSS  google sports  url:  http://www.nfl.com/fantasy/story/0ap3000000996186/article/start-em-sit-em-week-14-running-backs\n",
            "327  RSS  google sports  url:  https://www.bleedinggreennation.com/2018/12/5/18126293/marcus-smith-redskins-former-eagles-first-round-pick-philadelphia-nfl-washington-draft-2015\n",
            "328  RSS  google sports  url:  http://www.espn.com/nba/story/_/id/25455959/miami-heat-hassan-whiteside-sits-fourth-leaves-bench-early\n",
            "329  RSS  google sports  url:  https://www.cbssports.com/nfl/news/xfl-announces-eight-teams-cities-and-stadiums-for-its-return-in-2020/\n",
            "330  RSS  google sports  url:  http://profootballtalk.nbcsports.com/2018/12/05/nflra-expects-roy-ellison-to-be-cleared/\n",
            "331  RSS  google sports  url:  https://theathletic.com/691490/2018/12/05/nfl-power-rankings-week-13-texans/\n",
            "332  RSS  google sports  url:  https://www.superiortelegram.com/sports/football/4537998-packers-poor-play-proves-changes-green-bay-must-run-deep\n",
            "333  RSS  google sports  url:  https://www.arrowheadpride.com/2018/11/30/18120132/chiefs-kareem-hunt-shown-pushing-kicking-woman-in-video-from-february-released-friday\n",
            "334  RSS  google sports  url:  https://www.wtae.com/article/fan-grabs-pregnant-woman-by-neck-at-steelers-chargers-game/25402147\n",
            "335  RSS  google sports  url:  http://www.nfl.com/news/story/0ap3000000996314/article/patriots-owner-flattered-by-interest-in-josh-mcdaniels\n",
            "336  RSS  google sports  url:  https://www.yardbarker.com/nfl/articles/former_pro_bowl_cb_sentenced_to_eight_years_in_prison_for_attempted_murder/s1_127_27931403\n",
            "337  RSS  google sports  url:  https://www.kctv5.com/news/video-emerges-of-alleged-kareem-hunt-fight-incident-at-kansas/article_225d990e-f747-11e8-a016-a3a8bd968c3d.html\n",
            "338  RSS  google sports  url:  https://www.everydayshouldbesaturday.com/2018/12/5/18125578/create-your-own-bowl-game\n",
            "339  RSS  google sports  url:  https://russianmachineneverbreaks.com/2018/12/05/ryan-reaves-on-his-hit-on-tom-wilson-he-was-just-looking-at-his-pass-and-ran-into-a-lion-in-the-jungle/\n",
            "340  RSS  google sports  url:  https://nypost.com/2018/12/04/how-danica-patrick-helped-aaron-rodgers-deal-with-packers-turmoil/\n",
            "341  RSS  google sports  url:  https://www.hookem.com/2018/12/04/texas-ex-colt-mccoy-breaks-fibula-right-leg-season/\n",
            "342  RSS  google sports  url:  https://buffalonews.com/2018/12/05/sean-mcdermott-on-kelvin-benjamin-release-obviously-it-didnt-work-out/\n",
            "343  RSS  google sports  url:  https://www.goal.com/en-us/news/the-terminal-decline-of-jose-mourinho/135yzzijn6q0w10jwum423bctu\n",
            "344  RSS  google sports  url:  http://sportspressnw.com/2241998/2018/thiel-after-a-century-top-shelf-hockey-is-back\n",
            "345  RSS  google sports  url:  https://www.cbssports.com/college-basketball/news/college-basketball-rankings-kansas-remains-no-1-in-top-25-and-1-but-loses-udoka-azubuike-indefinitely/\n",
            "346  RSS  google sports  url:  https://www.boston.com/sports/new-england-patriots/2018/12/04/despite-showing-against-vikings-patriots-defense-is-still-a-land-of-confusion\n",
            "347  RSS  google sports  url:  https://www.stltoday.com/sports/columns/benjamin-hochman/hochman-it-wasn-t-a-dream-former-clemson-qb-kelly/article_5b616e98-12f0-5e6b-8443-bea98d44a396.html\n",
            "348  RSS  google sports  url:  https://www.youtube.com/watch?v=jVci4cKmLlE\n",
            "349  RSS  google sports  url:  https://www.theringer.com/nfl/2018/12/5/18126835/tom-brady-miami-dolphins-new-england-patriots\n",
            "350  RSS  google sports  url:  https://metsmerizedonline.com/2018/12/mmo-trade-target-j-t-realmuto-c.html/\n",
            "351  RSS  google sports  url:  http://www.nfl.com/news/story/0ap3000000996317/article/john-elway-on-rb-phillip-lindsay-id-take-53-of-him\n",
            "352  RSS  google sports  url:  https://metsmerizedonline.com/2018/12/van-wagenen-showing-he-will-be-bold.html/\n",
            "353  RSS  google sports  url:  https://www.ninersnation.com/2018/12/4/18124375/robert-saleh-hot-seat-49ers-seahawks-defense\n",
            "354  RSS  google sports  url:  https://www.fantasyalarm.com/articles/stein/63552/2018-nfl-injury-report-december-4/\n",
            "355  RSS  google sports  url:  https://bleacherreport.com/articles/2809158-mike-freemans-10-point-stance-whats-kareem-hunts-nfl-future-if-he-has-one\n",
            "356  RSS  google sports  url:  https://www.maxim.com/sports/tyson-fury-to-donate-fight-purse-2018-12\n",
            "357  RSS  google sports  url:  https://www.politico.com/story/2018/12/05/trump-will-attend-army-navy-game-1045747\n",
            "358  RSS  google sports  url:  https://deadspin.com/the-ufc-is-either-stupid-or-evil-1830876871\n",
            "359  RSS  google sports  url:  https://www.youtube.com/watch?v=sNRsKMtyLso\n",
            "360  RSS  google sports  url:  https://www.thegoodphight.com/2018/12/4/18125690/how-matt-klentak-won-the-jean-segura-trade\n",
            "361  RSS  google sports  url:  https://www.foxnews.com/sports/steelers-fan-captured-choking-pregnant-woman-at-game-report-says\n",
            "362  RSS  google sports  url:  https://www.saturdaydownsouth.com/alabama-football/alabama-oc-mike-locksley-makes-case-for-tua-tagovailoa-to-win-the-heisman/\n",
            "363  RSS  google sports  url:  https://theramswire.usatoday.com/2018/12/04/nfl-rams-malcolm-brown-todd-gurley-injury/\n",
            "364  RSS  google sports  url:  https://www.amazinavenue.com/2018/12/5/18123143/mets-payroll-robinson-cano-edwin-diaz-brodie-van-wagenen-wilpon-new-york\n",
            "365  RSS  google sports  url:  https://www.boston.com/sports/nfl/2018/12/04/roy-ellison-jerry-hughes\n",
            "366  RSS  google sports  url:  https://8points9seconds.com/2018/12/04/indiana-pacers-bulls-grades/\n",
            "367  RSS  google sports  url:  https://www.kctv5.com/news/chiefs-fan-banned-from-las-vegas-stadium-after-burying-flag/article_8c999fda-f7f0-11e8-92f9-2307e65ba141.html\n",
            "368  RSS  google sports  url:  https://www.aol.com/article/news/2018/12/04/world-series-champ-red-sox-accept-invitation-to-white-house/23608161/\n",
            "369  RSS  google sports  url:  https://www.youtube.com/watch?v=2X5xPQpLt0Y\n",
            "370  RSS  google sports  url:  https://www.dallasnews.com/business/real-estate/2018/12/04/pga-america-announces-hq-move-frisco-520-million-deal\n",
            "371  RSS  google sports  url:  https://www.freep.com/story/sports/college/university-michigan/wolverines/2018/12/05/michigan-basketball-northwestern-ignas-brazdeikis/2212241002/\n",
            "372  RSS  google sports  url:  https://theathletic.com/693297/2018/12/05/the-athletic-college-football-all-america-teams-2018/\n",
            "373  RSS  google sports  url:  https://theathletic.com/692735/2018/12/04/bulls-hoiberg-boylen-coach-change/\n",
            "374  RSS  google sports  url:  https://www.youtube.com/watch?v=ZpNFxJT-ZQE\n",
            "375  RSS  google sports  url:  https://www.ksl.com/article/46440804/jazz-rain-3s-in-blowout-of-spurs\n",
            "376  RSS  google sports  url:  https://www.youtube.com/watch?v=7vGe5EuPWeQ\n",
            "377  RSS  google sports  url:  https://mynhltraderumors.com/nhl-rumors-toronto-maple-leafs-matthews-marner-and-nylander/2018/12/05/\n",
            "378  RSS  google sports  url:  https://www.dawgnation.com/football/georgia-football-all-sec-2018-season\n",
            "379  RSS  google sports  url:  https://247sports.com/nfl/philadelphia-eagles/LongFormArticle/Eagles-injury-report-after-Redskins-game-125880928/\n",
            "380  RSS  google sports  url:  http://profootballtalk.nbcsports.com/2018/12/04/kyle-nelson-says-he-wouldnt-knowingly-take-banned-substance-intends-legal-action-if-tainted-supplement-identified/\n",
            "381  RSS  google sports  url:  https://www.football.london/arsenal-fc/news/manchester-united-arsenal-news-lacazette-15510786\n",
            "382  RSS  google tech  url:  https://arstechnica.com/gadgets/2018/12/galaxy-s10-renders-show-off-hole-punch-camera-notch-four-rear-cameras/\n",
            "383  RSS  google tech  url:  https://fortniteintel.com/2018/12/05/new-aerial-vehicle-possibly-coming-to-fortnite-in-season-7/\n",
            "384  RSS  google tech  url:  https://www.macrumors.com/2018/12/05/ios-12-1-1-coming-today/\n",
            "385  RSS  google tech  url:  https://pocketnow.com/apple-airpods-patent\n",
            "386  RSS  google tech  url:  https://bgr.com/2018/12/05/aukey-bluetooth-earbuds-sale-on-amazon-big-discount/\n",
            "387  RSS  google tech  url:  https://www.nbcnews.com/feature/nbc-out/i-fear-loss-community-tumblr-s-new-adult-content-rules-n944196\n",
            "388  RSS  google tech  url:  https://9to5mac.com/2018/12/05/apple-sleep-tracking-fcc/\n",
            "389  RSS  google tech  url:  https://www.engadget.com/2018/12/05/yandex-phone-smartphone-russia/\n",
            "390  RSS  google tech  url:  https://www.cnet.com/news/microsoft-outlook-for-ios-get-a-brand-new-look-haptic-feedback/\n",
            "391  RSS  google tech  url:  https://www.foxnews.com/tech/struggling-apple-is-slashing-the-price-of-the-new-iphone-xr\n",
            "392  RSS  google tech  url:  https://www.altpress.com/news/apple-most-popular-apps-2018-youtube-snapchat/\n",
            "393  RSS  google tech  url:  https://www.androidpolice.com/2018/12/05/google-announces-flutter-1-0-the-first-stable-release-of-its-cross-platform-mobile-development-toolkit/\n",
            "394  RSS  google tech  url:  https://www.motor1.com/news/286479/chevrolet-silverado-hd-versus-competition/\n",
            "395  RSS  google tech  url:  https://www.talkandroid.com/335326-new-google-sounds-app-adds-visualizations-and-managed-ringtones-to-your-pixel/\n",
            "396  RSS  google tech  url:  https://arstechnica.com/gaming/2018/12/dozens-of-hidden-game-names-found-in-playstation-classic-source-files/\n",
            "397  RSS  google tech  url:  https://searchengineland.com/duckduckgo-study-says-google-search-personalization-perpetuating-filter-bubble-309066\n",
            "398  RSS  google tech  url:  https://www.xda-developers.com/google-play-store-best-of-2018/\n",
            "399  RSS  google tech  url:  https://www.thurrott.com/xbox/xbox-one/194491/spotify-gets-improved-interface-cortana-integration-on-xbox\n",
            "400  RSS  google tech  url:  https://www.macrumors.com/2018/12/05/apple-now-selling-iphone-xr-clear-case/\n",
            "401  RSS  google tech  url:  https://magic-leap.reality.news/news/insomniac-games-releases-seedling-first-paid-augmented-reality-game-for-magic-leap-one-0190894/\n",
            "402  RSS  google tech  url:  https://www.engadget.com/2018/12/05/amazon-fire-tablets-accept-drop-in-calls/\n",
            "403  RSS  google tech  url:  https://techxplore.com/news/2018-12-cyborg-source.html\n",
            "404  RSS  google tech  url:  https://pocketnow.com/samsung-5g-prototype\n",
            "405  RSS  google tech  url:  https://www.gizmochina.com/2018/12/05/xiaomi-president-hints-48mp-camera-smartphone-launch-in-january-could-it-be-the-xiaomi-mi-9/\n",
            "406  RSS  google tech  url:  https://www.theverge.com/2018/12/5/18125972/google-chrome-71-available-public-desktop-ad-blocking\n",
            "407  RSS  google tech  url:  https://www.neowin.net/news/microsoft-releases-windows-10-build-143932641---heres-whats-new/\n",
            "408  RSS  google tech  url:  https://www.androidauthority.com/samsung-galaxy-s10-plus-design-poll-930966/\n",
            "Article `download()` failed with 403 Client Error: Forbidden for url: https://www.tomsguide.com/us/best-audio-hi-fi-christmas-deals-2018-holiday,news-26163.html on URL https://www.tomsguide.com/us/best-audio-hi-fi-christmas-deals-2018-holiday,news-26163.html\n",
            "409  RSS  google tech  url:  https://www.msn.com/en-us/autos/autos-trucks/2019-chevy-colorado-zr2-bison-first-drive-review-improved-but-not-transformed/ar-BBQwuXF\n",
            "410  RSS  google tech  url:  https://www.pcmag.com/news/365264/apple-offers-veterans-10-percent-discount-via-new-online-sto\n",
            "411  RSS  google tech  url:  https://www.ign.com/articles/2018/12/05/new-far-cry-game-teased\n",
            "412  RSS  google tech  url:  https://9to5mac.com/2018/12/04/researchers-develop-cross-platform-app-to-test-for-anemia-with-a-single-photo/\n",
            "413  RSS  google tech  url:  https://www.polygon.com/guides/2018/12/4/18125740/pokemon-go-multiplayer-trainer-battles-guide-trainer-league\n",
            "414  RSS  google tech  url:  https://www.stereogum.com/2023376/best-eps-2018/franchises/2018-in-review/\n",
            "415  RSS  google tech  url:  https://www.digitaltrends.com/mobile/google-flutter-exits-beta-design/\n",
            "416  RSS  google tech  url:  https://www.techquila.co.in/amd-ryzen-3000-cpu/\n",
            "417  RSS  google tech  url:  https://www.androidpolice.com/2018/12/05/nokia-8-1-launches-as-global-edition-of-chinas-nokia-x7-sporting-a-snapdragon-710-for-e399/\n",
            "418  RSS  google tech  url:  https://www.eurogamer.net/articles/2018-12-05-arrest-made-in-starbreeze-office-raid\n",
            "419  RSS  google tech  url:  https://www.techspot.com/news/77703-rockstar-working-making-red-dead-online-economy-less.html\n",
            "420  RSS  google tech  url:  https://www.trustedreviews.com/news/bose-frames-ar-sunglasses-3633373\n",
            "421  RSS  google tech  url:  https://www.guru3d.com/news-story/december-4-battlefield-v-raytracing-dxr-performance-patch-released-(benchmarks).html\n",
            "422  RSS  google tech  url:  https://petapixel.com/2018/12/05/samsung-caught-using-dslr-photo-to-fake-its-phones-portrait-mode/\n",
            "423  RSS  google tech  url:  https://www.gamespot.com/articles/fallout-76-patch-notes-for-december-4-update-relea/1100-6463582/\n",
            "424  RSS  google tech  url:  https://bgr.com/2018/12/04/microsoft-throws-shade-at-the-ipad-calls-it-a-fake-computer/\n",
            "425  RSS  google tech  url:  https://www.polygon.com/2018/12/5/18127242/nintendo-switch-online-free-nes-games-update\n",
            "426  RSS  google tech  url:  http://www.ejinsight.com/20181204-nvidia-prospects-still-solid-despite-short-term-concerns/\n",
            "427  RSS  google tech  url:  https://www.forbes.com/sites/jeanbaptiste/2018/12/03/heres-why-apple-had-no-choice-but-to-bring-its-music-service-to-amazon-alexa-smart-speakers/\n",
            "428  RSS  google tech  url:  https://www.androidcentral.com/verizon-launching-rcs-chat-pixel-33xl-starting-dec-6\n",
            "429  RSS  google tech  url:  https://comicbook.com/gaming/2018/12/04/super-smash-bros-ultimate-special-edition-is-back-on-amazon/\n",
            "430  RSS  google tech  url:  http://www.autonews.com/article/20181204/OEM01/181209873/mustang-shelby-gt-ford-3d-augmented-reality-michigan\n",
            "431  RSS  google tech  url:  https://www.theverge.com/2018/12/4/18126309/apple-airpods-patent-interchangeable-design-wireless-ear-buds-biometric-sensors\n",
            "432  RSS  google tech  url:  https://gearnuke.com/battlefield-5-update-version-1-04-full-patch-notes-overture/\n",
            "433  RSS  google tech  url:  https://www.gamespot.com/articles/destiny-2s-black-armory-expansion-is-live-heres-wh/1100-6463628/\n",
            "434  RSS  google tech  url:  https://www.destructoid.com/the-debut-game-of-every-super-smash-bros-ultimate-fighter-ranked-533430.phtml\n",
            "435  RSS  google tech  url:  https://www.youtube.com/watch?v=t3V0NVjCN-s\n",
            "436  RSS  google tech  url:  https://www.androidcentral.com/google-one-discount-pixel-3-and-3-xl-125\n",
            "437  RSS  google tech  url:  https://www.ign.com/articles/2018/12/05/three-new-nes-games-including-ninja-gaiden-are-headed-to-nintendo-switch-online-next-week\n",
            "438  RSS  google tech  url:  https://www.notebookcheck.net/New-Razer-Blade-Stealth-gets-right-what-the-Dell-XPS-13-does-wrong.372561.0.html\n",
            "439  RSS  google tech  url:  https://comicbook.com/gaming/2018/12/04/league-of-legends-new-blood-moon-prestige-skins/\n",
            "440  RSS  google tech  url:  https://gearnuke.com/miyazaki-provides-possibility-of-bloodborne-2/\n",
            "441  RSS  google tech  url:  https://www.windowscentral.com/mutant-year-zero-review\n",
            "442  RSS  google tech  url:  https://www.ign.com/articles/2018/12/04/fallout-76-patch-notes-bug-fixes-increased-stash-storage-improved-stability-and-more\n",
            "443  RSS  google tech  url:  https://www.vg247.com/2018/12/04/assassins-creed-odyssey-legacy-of-the-first-blade-order-of-the-ancients-locations/\n",
            "444  RSS  google tech  url:  https://arstechnica.com/gadgets/2018/12/microsoft-continues-its-quest-to-embrace-every-developer-with-visual-studio-2019/\n",
            "445  RSS  google tech  url:  http://www.nintendolife.com/news/2018/12/rumour_swedish_retailer_lists_metroid_prime_trilogy_for_nintendo_switch\n",
            "446  RSS  google tech  url:  https://bgr.com/2018/12/04/macbook-pro-deals-on-amazon-for-christmas/\n",
            "447  RSS  google tech  url:  https://jalopnik.com/skipping-gears-on-a-manual-transmission-is-fine-1830850961\n",
            "448  RSS  google tech  url:  https://www.theverge.com/2018/12/4/18125228/youtube-autoplay-on-home-feature-default-optional\n",
            "449  RSS  google tech  url:  https://www.extremetech.com/computing/281697-nvidia-open-sources-physx-with-a-few-caveats-attached\n",
            "450  RSS  google tech  url:  https://www.vg247.com/2018/12/04/red-dead-online-guide-tips-tricks/\n",
            "451  RSS  google entertainment  url:  https://www.rollingstone.com/music/music-news/cardi-b-split-offset-763348/\n",
            "452  RSS  google entertainment  url:  https://www.cosmopolitan.com/entertainment/a25407172/meghan-markle-prince-harry-christmas-carol-pics/\n",
            "453  RSS  google entertainment  url:  http://toofab.com/2018/12/05/joe-jonas-and-sophie-turner-slam-disgusting-story-declaring-priyanka-chopras-marriage-to-nick-jonas-fraudulent/\n",
            "454  RSS  google entertainment  url:  http://www.tmz.com/2018/12/05/travis-scott-kylie-jenner-stormi-security-concerts-astroworld-tour/\n",
            "455  RSS  google entertainment  url:  https://www.avclub.com/midge-misses-her-marriage-and-rose-imagines-a-boho-life-1830804820\n",
            "456  RSS  google entertainment  url:  https://www.indiewire.com/2018/12/kevin-hart-homophobic-abusive-past-oscars-host-1202025494/\n",
            "457  RSS  google entertainment  url:  https://www.npr.org/2018/12/05/673676491/after-threats-r-kelly-documentary-screening-in-manhattan-is-evacuated\n",
            "458  RSS  google entertainment  url:  https://www.cnn.com/2018/12/04/entertainment/jael-strauss-dead/index.html\n",
            "459  RSS  google entertainment  url:  https://www.huffingtonpost.com/entry/tom-cruise-motion-smoothing_us_5c07ce1be4b0fc2361120acc\n",
            "460  RSS  google entertainment  url:  https://variety.com/2018/film/features/actors-on-actors-emily-blunt-hugh-jackman-1203080022/\n",
            "461  RSS  google entertainment  url:  https://adage.com/article/media/friends-freak/315861/\n",
            "462  RSS  google entertainment  url:  https://news.avclub.com/that-last-epic-game-of-thrones-battle-might-happen-soon-1830880130\n",
            "463  RSS  google entertainment  url:  http://www.justjared.com/2018/12/05/chloe-moretz-kisses-model-kate-harrison-in-new-photos/\n",
            "464  RSS  google entertainment  url:  https://www.harpersbazaar.com/celebrity/latest/a25408612/kate-middleton-pantsuit-cyprus/\n",
            "465  RSS  google entertainment  url:  https://pagesix.com/2018/12/04/inside-nick-jonas-and-priyanka-chopras-extravagant-3-day-wedding/\n",
            "466  RSS  google entertainment  url:  https://www.usatoday.com/story/life/entertainthis/2018/12/04/gwen-stefani-addresses-engagement-rumors-blake-shelton-hes-my-boyfriend-still/2207302002/\n",
            "467  RSS  google entertainment  url:  https://www.washingtonpost.com/arts-entertainment/2018/12/05/shame-adam-levine-voice-fans-are-furious-after-this-weeks-bizarre-elimination/\n",
            "468  RSS  google entertainment  url:  https://www.bleedingcool.com/2018/12/04/skrulls-not-so-secretly-invade-marvels-variant-covers-in-february/\n",
            "469  RSS  google entertainment  url:  https://www.aol.com/article/entertainment/2018/12/05/gwyneth-paltrow-takes-credit-for-bringing-yoga-to-the-masses/23609312/\n",
            "470  RSS  google entertainment  url:  http://www.bbc.com/culture/story/20181204-film-review-mary-queen-of-scots\n",
            "471  RSS  google entertainment  url:  https://www.foxnews.com/entertainment/trina-braxton-defends-baby-its-cold-outside\n",
            "472  RSS  google entertainment  url:  http://www.tmz.com/2018/12/05/dynamite-kid-dies-british-bulldogs/\n",
            "473  RSS  google entertainment  url:  https://www.vulture.com/2018/12/trevor-noah-lost-voice-daily-show-episode.html\n",
            "474  RSS  google entertainment  url:  http://toofab.com/2018/12/05/kim-kardashian-family-christmas-card-kanye-west-phone-cher-show/\n",
            "475  RSS  google entertainment  url:  https://www.cnn.com/2018/12/05/entertainment/demi-lovato-instagram/index.html\n",
            "476  RSS  google entertainment  url:  https://www.digitalspy.com/movies/a25409449/x-men-deadpool-marvel-mcu-avengers-4-directors/\n",
            "477  RSS  google entertainment  url:  https://www.polygon.com/2018/12/5/18127206/captain-marvel-toys-goose-the-cat-nick-fury-release-date\n",
            "478  RSS  google entertainment  url:  https://www.billboard.com/articles/events/women-in-music/8487877/ariana-grande-cover-story-billboard-women-in-music-2018\n",
            "479  RSS  google entertainment  url:  https://ny.eater.com/2018/12/5/18124292/best-restaurants-nyc-chefs-restaurants-eater-awards\n",
            "480  RSS  google entertainment  url:  https://www.aol.com/article/entertainment/2018/12/05/sarah-hyland-taking-social-media-break-after-cousins-death/23609402/\n",
            "481  RSS  google entertainment  url:  https://guacamoley.com/lol/2018/12/04/nyc-restaurant-blasts-thank-u-next-as-pete-davidson-dines-and-its-just-too-awkward/\n",
            "482  RSS  google entertainment  url:  https://www.nydailynews.com/entertainment/gossip/ny-ent-eddie-murphy-10th-child-20181204-story.html\n",
            "483  RSS  google entertainment  url:  https://www.ksdk.com/article/news/nation-world/jennifer-aniston-responds-to-dolly-partons-threesome-bombshell-my-mouth-just-dropped/507-621050376\n",
            "484  RSS  google entertainment  url:  https://www.vulture.com/2018/12/lena-dunham-apology-defending-girls-writer.html\n",
            "485  RSS  google entertainment  url:  https://www.cnn.com/2018/12/05/entertainment/phoebe-robinson-could-be-your-new-bff/index.html\n",
            "486  RSS  google entertainment  url:  https://www.foxnews.com/lifestyle/kate-middleton-wears-princess-dianas-favorite-tiara-to-royal-event\n",
            "487  RSS  google entertainment  url:  https://www.youtube.com/watch?v=mJYhJdWM_go\n",
            "488  RSS  google entertainment  url:  https://www.huffingtonpost.com/entry/walking-dead-actor-donkey-emu_us_5c06feb1e4b0fc236110eb6a\n",
            "489  RSS  google entertainment  url:  http://blog.afi.com/announcing-the-afi-awards-2018-honorees/\n",
            "490  RSS  google entertainment  url:  http://wlos.com/news/nation-world/ken-berry-star-of-sitcom-f-troop-has-died-at-age-85\n",
            "491  RSS  google entertainment  url:  https://www.latimes.com/local/obituaries/la-me-philip-bosco-20181204-story.html\n",
            "492  RSS  google entertainment  url:  http://hiphopdx.com/news/id.49468/title.drake-owns-apple-musics-best-of-2018-artist-of-the-year-category\n",
            "493  RSS  google entertainment  url:  https://bloody-disgusting.com/tv/3536397/trailer-chilling-adventures-sabrina-midwinters-tale-brings-holiday-horrors-netflix-month/\n",
            "494  RSS  google entertainment  url:  http://toofab.com/2018/12/05/will-smith-recalls-willow-smith-staging-a-mutiny-against-his-leadership-she-really-tested-me/\n",
            "495  RSS  google entertainment  url:  http://www.newser.com/story/268104/hootie-the-blowfish-getting-back-together.html\n",
            "496  RSS  google entertainment  url:  https://www.udiscovermusic.com/news/queen-adam-lambert-rhapsody-tour/\n",
            "497  RSS  google entertainment  url:  https://www.cnn.com/style/article/turner-prize-2018-charlotte-prodger/index.html\n",
            "498  RSS  google entertainment  url:  https://www.dexerto.com/red-dead-redemption/red-dead-online-player-is-spending-their-time-spreading-christmas-spirit-as-santa-claus-242166\n",
            "499  RSS  google entertainment  url:  http://www.playbill.com/article/watch-chers-surprise-performance-at-opening-night-curtain-call-of-the-cher-show\n",
            "500  RSS  google entertainment  url:  https://chicago.suntimes.com/lifestyles/dear-abby-decades-after-sex-abuse-woman-still-cant-find-peace/\n",
            "501  RSS  google entertainment  url:  https://pitchfork.com/news/watch-wu-tang-clan-perform-an-npr-tiny-desk-concert/\n",
            "502  RSS  google entertainment  url:  https://www.cinemablend.com/news/2462726/why-queen-was-really-reluctant-to-do-bohemian-rhapsody-at-first\n",
            "503  RSS  google entertainment  url:  https://www.slamonline.com/nba/tristan-thompson-flips-off-heckling-nets-fans/\n",
            "504  RSS  google entertainment  url:  http://www.ktvn.com/story/39583867/cleveland-radio-station-bans-song-baby-its-cold-outside\n",
            "505  RSS  google entertainment  url:  https://madamenoire.com/1050475/tyra-banks-birthday/\n",
            "506  RSS  google entertainment  url:  https://www.thewrap.com/american-horror-story-coven-witches-cordelia-season-9-apocalypse-ryan-murphy/\n",
            "507  RSS  google entertainment  url:  https://pagesix.com/2018/12/04/jenna-dewans-new-man-posts-romantic-birthday-message/\n",
            "508  RSS  google entertainment  url:  https://www.hollywoodreporter.com/live-feed/narcos-mexico-renewed-netflix-1160463\n",
            "509  RSS  google entertainment  url:  https://abcnews.go.com/GMA/Culture/lindsay-lohan-responds-viral-video-chasing-family/story?id=59599016\n",
            "Article `download()` failed with 403 Client Error: Forbidden for url: https://www.huffpost.com/entry/ryan-reynolds-parenting_n_5c06882ce4b0cd916fb00f03 on URL https://www.huffpost.com/entry/ryan-reynolds-parenting_n_5c06882ce4b0cd916fb00f03\n",
            "510  RSS  google entertainment  url:  https://www.youtube.com/watch?v=23fl2WqW8rA\n",
            "511  RSS  google entertainment  url:  https://abcnews.go.com/GMA/Living/boys-failed-attempt-iconic-triple-dog-dare-frozen/story?id=59594232\n",
            "512  RSS  google entertainment  url:  https://www.thewrap.com/golden-globes-nomination-predictions-what-stars-will-be-born-this-year/\n",
            "513  RSS  google entertainment  url:  https://www.thedailybeast.com/gwyneth-paltrows-goop-is-pushing-useless-charcoal-toothbrushes-for-christmas\n",
            "514  RSS  google entertainment  url:  https://nypost.com/2018/12/04/ron-burgundy-podcast-with-will-ferrell-announced-for-2019-don-lemon-not-happy/\n",
            "515  RSS  google entertainment  url:  https://www.billboard.com/articles/columns/pop/8488652/ariana-grande-thank-u-next-biggest-music-video-debut-youtube\n",
            "516  RSS  google entertainment  url:  https://www.wrestlinginc.com/news/2018/12/exclusive-backstage-wwe-smackdown-notes-former-superstars-648509/\n",
            "517  RSS  google entertainment  url:  https://www.eastbaytimes.com/2018/12/05/more-heartbreak-for-mylie-cyrus-after-losing-home-in-woolsey-fire/\n",
            "518  RSS  google entertainment  url:  https://www.slashfilm.com/christmas-chronicles-viewers/\n",
            "519  RSS  google entertainment  url:  http://mentalfloss.com/article/566287/harry-potter-character-jk-rowling-regrets-killing\n"
          ],
          "name": "stdout"
        }
      ]
    },
    {
      "cell_type": "code",
      "metadata": {
        "id": "bDqjMAm4OzQD",
        "colab_type": "code",
        "colab": {}
      },
      "source": [
        "news = './article.json'\n",
        "new = './articles.json'\n",
        "# Check to see if we made this file \n",
        "if os.path.exists(new):\n",
        "  with open(new) as infile:\n",
        "    news_news = json.load(infile)\n",
        "  news_new_dict = co.defaultdict(list)\n",
        "  for f, a in news_news.items():\n",
        "    #print(a)\n",
        "    news_new_dict[f].append(a)\n",
        "    news_new_dict[f]=news_new_dict[f][0]\n",
        "    #pprint(news_new_dict[f][0]))\n",
        "    \n",
        "  #pprint(news_new_dict[f][1]) -- Commented out to handle cron's Unicode error\n",
        "  with open(news) as infile:\n",
        "    new_news = json.load(infile)\n",
        "    for f, a in new_news.items():\n",
        "      #print(a.keys())\n",
        "      for b, c in a.items():\n",
        "        for d in c['articles']:\n",
        "          news_new_dict[b].append(d)\n",
        "        #pprint(len(news_new_dict[b]))\n",
        "    #pprint(news_new_dict[b][1]) -- Commented out to handle cron's Unicode error\n",
        "  with open(new, \"w\") as outfile:\n",
        "    json.dump(news_new_dict, outfile)\n",
        "else:\n",
        "  with open(news) as infile:\n",
        "    new_news = json.load(infile)\n",
        "    news_new_dict = co.defaultdict(list)\n",
        "    for f, a in new_news.items():\n",
        "      for b, c in a.items():\n",
        "        for d in c['articles']:\n",
        "          #print(b, d)\n",
        "          news_new_dict[b].append(d)\n",
        "    with open(new, \"w\") as outfile:\n",
        "      json.dump(news_new_dict, outfile)          \n"
      ],
      "execution_count": null,
      "outputs": []
    },
    {
      "cell_type": "markdown",
      "metadata": {
        "id": "w64ByXJG6-6p",
        "colab_type": "text"
      },
      "source": [
        "###Get Keywords by Hour "
      ]
    },
    {
      "cell_type": "markdown",
      "metadata": {
        "id": "Xy6FRYTTHfvn",
        "colab_type": "text"
      },
      "source": [
        "The following cell contains a function that returns a dictionary where the keys are types of news (entertainment, health, etc.) and the values are counter objects containing the number of times a keyword has appeared in an article of that news type."
      ]
    },
    {
      "cell_type": "code",
      "metadata": {
        "id": "VN-pm4rVHZkX",
        "colab_type": "code",
        "colab": {}
      },
      "source": [
        "# Keywords per news type at this hour\n",
        "def get_keywords_by_news_type():\n",
        "    news_types = {}\n",
        "    \n",
        "    for google_news_type, news in data['feeds'].items():\n",
        "        keywords = []\n",
        "        # Ex: 'google entertainment' -> 'entertainment'\n",
        "        news_type = re.split('google', google_news_type)[-1].strip()\n",
        "        articles = news['articles']\n",
        "        for article in articles:\n",
        "            # Adds each article's list of keywords to a comprehensive list\n",
        "            keywords.extend(article['keywords'])\n",
        "            \n",
        "        common_words = Counter(keywords)\n",
        "\n",
        "        news_types[news_type] = common_words\n",
        "    return news_types"
      ],
      "execution_count": null,
      "outputs": []
    },
    {
      "cell_type": "code",
      "metadata": {
        "id": "pzr3i1kFIfAd",
        "colab_type": "code",
        "colab": {}
      },
      "source": [
        "keywords_by_type = get_keywords_by_news_type()\n",
        "#pprint(keywords_by_type['health']) -- Commented out to handle cron's Unicode error"
      ],
      "execution_count": null,
      "outputs": []
    },
    {
      "cell_type": "markdown",
      "metadata": {
        "id": "D1UchGk1IpbU",
        "colab_type": "text"
      },
      "source": [
        "The following cell contains a function that returns a counter object of all keywords regardless of news type."
      ]
    },
    {
      "cell_type": "code",
      "metadata": {
        "id": "Rk7FE_nzJWS-",
        "colab_type": "code",
        "colab": {}
      },
      "source": [
        "# Key words regardless of news type at this hour\n",
        "def get_keywords():\n",
        "    keywords = []\n",
        "    for google_news_type, news in data['feeds'].items():\n",
        "        articles = news['articles']\n",
        "        for article in articles:\n",
        "            keywords.extend(article['keywords'])\n",
        "\n",
        "    common_keywords = Counter(keywords) \n",
        "    return common_keywords"
      ],
      "execution_count": null,
      "outputs": []
    },
    {
      "cell_type": "code",
      "metadata": {
        "id": "89qBuji_JcAm",
        "colab_type": "code",
        "colab": {}
      },
      "source": [
        "hourly_keywords = get_keywords()\n",
        "#pprint(hourly_keywords) -- Commented out to handle cron's Unicode error"
      ],
      "execution_count": null,
      "outputs": []
    },
    {
      "cell_type": "markdown",
      "metadata": {
        "id": "zUstBc5oOhPi",
        "colab_type": "text"
      },
      "source": [
        "`get_date_id()` returns the date in DDMON notation (11DEC)"
      ]
    },
    {
      "cell_type": "code",
      "metadata": {
        "id": "TUkHn15lJ5k1",
        "colab_type": "code",
        "colab": {}
      },
      "source": [
        "def get_date_id():\n",
        "  date = datetime.now().date()\n",
        "  today = datetime.today() ## Added 12/2.2018.\n",
        "  month = calendar.month_abbr[today.month].upper()\n",
        "  day = date.day\n",
        "\n",
        "  date_id = str(day) + str(month)\n",
        "  return date_id\n",
        "\n",
        "date_id = get_date_id()"
      ],
      "execution_count": null,
      "outputs": []
    },
    {
      "cell_type": "markdown",
      "metadata": {
        "id": "XjVKH2YYPbnb",
        "colab_type": "text"
      },
      "source": [
        "The following cell gets the current hour's `key_words_by_type` and appends it to a JSON file. If the JSON file hasn't been created yet, it creates it and writes the `key_words_by_type` dictionary to that json file. If the file already exists, it reads in the dictionary contained within the file, loops over the different news types, and adds the counter object attached to the news type from this hour to the counter object in the JSON file.\n",
        "\n"
      ]
    },
    {
      "cell_type": "code",
      "metadata": {
        "id": "P5PxEtiIKXCj",
        "colab_type": "code",
        "colab": {}
      },
      "source": [
        "f1_name = f'./{date_id}_hourly_keywords_by_type.json'\n",
        "print(f1_name)\n",
        "\n",
        "# Check to see if we made this file yet today\n",
        "if os.path.exists(f1_name):\n",
        "    # If we have, open file and load into by_type (dict)\n",
        "    with open(f1_name) as infile:\n",
        "        by_type = json.load(infile) # dict of news types to dict (which will be converted to counter)\n",
        "        \n",
        "    # Grab all news types that are present in last data set and current data set from this hourly call\n",
        "    common_types = keywords_by_type.keys() & by_type.keys()\n",
        "    # See if there are any new types of news in this hours call\n",
        "    new_types = keywords_by_type.keys() - by_type.keys()\n",
        "    \n",
        "    new_dict = {}\n",
        "    # Loop over all news types that exist in last dataset and current dataset\n",
        "    for type_ in common_types:\n",
        "        # Add the counter objects associated with each news type\n",
        "        new_count = keywords_by_type[type_] + Counter(by_type[type_])\n",
        "        # Create updated dict\n",
        "        new_dict[type_] = new_count\n",
        "    \n",
        "    if new_types:\n",
        "        # If there are new news types, insert them into the dict\n",
        "        for type_ in new_types:\n",
        "            new_dict[type_] = keywords_by_type[type_]  \n",
        "    \n",
        "    # \"Overwrite\" files data with new data, which contains the old data and this hour's data.\n",
        "    with open(f1_name, 'w') as outfile:\n",
        "        json.dump(new_dict, outfile)\n",
        "else:\n",
        "    # If file doesn't exist (first call at 00:00) create it.\n",
        "    with open(f1_name, 'w') as outfile:\n",
        "        json.dump(keywords_by_type, outfile)"
      ],
      "execution_count": null,
      "outputs": []
    },
    {
      "cell_type": "markdown",
      "metadata": {
        "id": "gPClbaNSQtPp",
        "colab_type": "text"
      },
      "source": [
        "The following cell gets the current hour's `hourly_keywords` and appends it to a JSON file. If the JSON file hasn't been created yet, it creates it and writes the `hourly_keywords` counter object to that json file. If the file already exists, it reads in the counter object contained within the file and adds the `hourly_keywords` counter object from this hour. It then writes the updated data back out to the json file."
      ]
    },
    {
      "cell_type": "code",
      "metadata": {
        "id": "d4sGQzHdjVSX",
        "colab_type": "code",
        "colab": {}
      },
      "source": [
        "f2_name = f'./{date_id}_hourly_keywords.json'\n",
        "print(f2_name)\n",
        "\n",
        "# Check to see if we made this file yet today\n",
        "if os.path.exists(f2_name):\n",
        "    # If we have, open file and load into by_type (dict)\n",
        "    with open(f2_name) as infile:\n",
        "        # dict object that represents a counter\n",
        "        all_keywords = json.load(infile)\n",
        "    # Create counter object of all the old key words\n",
        "    all_keywords_count = Counter(all_keywords)\n",
        "    \n",
        "    update_kw_count = all_keywords_count + hourly_keywords\n",
        "    \n",
        "    # \"Overwrite\" files data with new data, which contains the old data and this hour's data.\n",
        "    with open(f2_name, 'w') as outfile:\n",
        "        json.dump(update_kw_count, outfile)\n",
        "else:\n",
        "    # If file doesn't exist (first call at 00:00) create it.\n",
        "    with open(f2_name, 'w') as outfile:\n",
        "        json.dump(hourly_keywords, outfile)"
      ],
      "execution_count": null,
      "outputs": []
    },
    {
      "cell_type": "markdown",
      "metadata": {
        "id": "Rpi5x7Nx64Qb",
        "colab_type": "text"
      },
      "source": [
        "###Get Keywords by Day "
      ]
    },
    {
      "cell_type": "code",
      "metadata": {
        "id": "ba22hPGMN8HN",
        "colab_type": "code",
        "colab": {}
      },
      "source": [
        "from datetime import datetime as dt\n",
        "\n",
        "# Time Stamp for log file\n",
        "print(\"\")\n",
        "print(\"\")\n",
        "print(\"\")\n",
        "print(\"========================================\")\n",
        "print(\"Log in time:\", dt.now())\n",
        "print(\"========================================\")\n",
        "print(\"\")\n",
        "print(\"\")\n",
        "print(\"\")\n",
        "\n",
        "date_id = get_date_id()"
      ],
      "execution_count": null,
      "outputs": []
    },
    {
      "cell_type": "markdown",
      "metadata": {
        "id": "BmQjf2QkResZ",
        "colab_type": "text"
      },
      "source": [
        "`get_daily_kw_by_type()` creates a file once at the end of each day that creates a dictionary of news types to their 30 most common keywords"
      ]
    },
    {
      "cell_type": "code",
      "metadata": {
        "id": "26Cj7_hrONIj",
        "colab_type": "code",
        "colab": {}
      },
      "source": [
        "def get_daily_kw_by_type():\n",
        "    kw_by_type_f = f'./{date_id}_hourly_keywords_by_type.json'\n",
        "\n",
        "    with open(kw_by_type_f) as infile:\n",
        "        daily_keywords_by_type = json.load(infile)\n",
        "        \n",
        "    todays_kw_by_type = {}\n",
        "    for type_, count in daily_keywords_by_type.items():\n",
        "        most_common_by_type = Counter(count).most_common(30)\n",
        "        todays_kw_by_type[type_] = most_common_by_type\n",
        "    \n",
        "    return todays_kw_by_type"
      ],
      "execution_count": null,
      "outputs": []
    },
    {
      "cell_type": "markdown",
      "metadata": {
        "id": "xhUZaiFCRwaV",
        "colab_type": "text"
      },
      "source": [
        "`get_daily_kw_info()` returns the 50 most common keywords of the day regardless of news type."
      ]
    },
    {
      "cell_type": "code",
      "metadata": {
        "id": "tywMkafJOZ56",
        "colab_type": "code",
        "colab": {}
      },
      "source": [
        "def get_daily_kw_info():\n",
        "    kw_f = f'./{date_id}_hourly_keywords.json'\n",
        "\n",
        "    with open(kw_f) as infile:\n",
        "        daily_keywords = json.load(infile)\n",
        "        \n",
        "    daily_counts = Counter(daily_keywords).most_common(50)\n",
        "    return daily_counts"
      ],
      "execution_count": null,
      "outputs": []
    },
    {
      "cell_type": "markdown",
      "metadata": {
        "id": "Qs9VyOuvST7l",
        "colab_type": "text"
      },
      "source": [
        "Write `daily_kw_counts` and `kw_by_type` to their respective daily JSON files."
      ]
    },
    {
      "cell_type": "code",
      "metadata": {
        "id": "pgbmjeIE62qF",
        "colab_type": "code",
        "colab": {}
      },
      "source": [
        "daily_kw_counts = get_daily_kw_info()\n",
        "kw_by_type = get_daily_kw_by_type()\n",
        "\n",
        "daily_kw = './' +file_id + '_daily_Keywords_Info.json'\n",
        "with open(daily_kw, 'w') as outfile:\n",
        "    json.dump(daily_kw_counts, outfile)\n",
        "\n",
        "daily_kw_by_type = './' +file_id + '_daily_Keywords_By_Type_Info.json'\n",
        "with open(daily_kw_by_type, 'w') as outfile:\n",
        "    json.dump(kw_by_type, outfile)"
      ],
      "execution_count": null,
      "outputs": []
    },
    {
      "cell_type": "markdown",
      "metadata": {
        "id": "qdx9bYD_8mnm",
        "colab_type": "text"
      },
      "source": [
        "#Our Data"
      ]
    },
    {
      "cell_type": "markdown",
      "metadata": {
        "id": "uoczhmhG-q8w",
        "colab_type": "text"
      },
      "source": [
        "###Output\n"
      ]
    },
    {
      "cell_type": "markdown",
      "metadata": {
        "id": "RYcVHrZM8q1m",
        "colab_type": "text"
      },
      "source": [
        "We have 4 main outputs from this code:\n",
        "\n",
        "1. A dictionary of scraped news articles\n",
        "2. A list of the headlines of all news articles in dictionary\n",
        "3. A file of word counts per day\n",
        "4. A file of word counts nested within RSS feed per day\n",
        "\n",
        "In total, we have 16 files for a total of 164 MB of data:\n",
        "\n",
        "1. articles.json (151 MB)\n",
        "\n",
        "2. headlines.txt (1.97 MB)\n",
        "\n",
        "3 and 4. (between 1-300 KB)\n",
        "\n",
        "8DEC_daily__Keywords_By_Type_Info.json\n",
        "    \n",
        "8DEC_daily__Keywords_Info.json\n",
        "   \n",
        "8DEC_hourly_keywords.json\n",
        " \n",
        "8DEC_hourly_keywords_by_type.json\n",
        "\n",
        "9DEC_daily__Keywords_By_Type_Info.json\n",
        "\n",
        "9DEC_daily__Keywords_Info.json\n",
        "\n",
        "9DEC_hourly_keywords.json\n",
        " \n",
        "9DEC_hourly_keywords_by_type.json\n",
        "\n",
        "10DEC_daily__Keywords_By_Type_Info.json\n",
        "\n",
        "10DEC_daily__Keywords_Info.json\n",
        "\n",
        "10DEC_hourly_keywords.json\n",
        "\n",
        "10DEC_hourly_keywords_by_type.json\n",
        "\n",
        "11DEC_hourly_keywords.json\n",
        "\n",
        "11DEC_hourly_keywords_by_type.json"
      ]
    },
    {
      "cell_type": "markdown",
      "metadata": {
        "id": "Gb6hyekH-wg0",
        "colab_type": "text"
      },
      "source": [
        "###Structure"
      ]
    },
    {
      "cell_type": "markdown",
      "metadata": {
        "id": "Stw12w0j-zKo",
        "colab_type": "text"
      },
      "source": [
        "Articles.json has a structure like:\n",
        "\n",
        "```\n",
        "{\"google headlines\": [{\n",
        "                       \"link\": Link to Article \n",
        "                       \"published\": YYYY-MM-DD HH:MM:SS\n",
        "                       \"title\": Headline of News Article\n",
        "                       \"author\": [Author Names]\n",
        "                       \"text\": Full Text of Article\n",
        "                       \"keywords\": [Words determined by Newspaper using NLTK to be important to the Article]\n",
        "                       \"summary\": An extract of 2 to 3 sentences made by Newspaper using NLTK to determine informative sentences from the Article\n",
        "                       }]\n",
        "\n",
        "```\n",
        "\n",
        "\n"
      ]
    },
    {
      "cell_type": "markdown",
      "metadata": {
        "id": "sEZAMvJwz0Md",
        "colab_type": "text"
      },
      "source": [
        "###Initial Analyses"
      ]
    },
    {
      "cell_type": "markdown",
      "metadata": {
        "id": "0uybsaE_oV8x",
        "colab_type": "text"
      },
      "source": [
        "After running it for three days, we were able to collect the following number of news articles (including repeat news stories):\n",
        "\n",
        "<br>\n",
        "  <table align = left><tr><td align = center><font size = 4>RSS</font></td><td align = center><font size =4><i>n</i></font></td></tr> \n",
        "  <tr><td><font size = 3> Google Headlines</font></td>, <td><font size = 3>2,554</font></td></tr>\n",
        "  <tr><td><font size = 3>Google Business</font></td><td><font size = 3>4,938</font></td></tr>\n",
        "  <tr><td><font size = 3>Google Nation</font></td><td><font size = 3>4,949</font></td></tr>\n",
        "  <tr><td><font size = 3>Google World</font></td><td><font size = 3>4,946</font></td></tr>\n",
        "  <tr><td><font size = 3>Google Health</font></td><td><font size = 3>4,356</font></td></tr>\n",
        "  <tr><td><font size = 3>Google Sports</font></td><td><font size = 3>4,953</font></td></tr>\n",
        "  <tr><td><font size = 3>Google Tech</font></td><td><font size = 3>4,957</font></td></tr>\n",
        "  <tr><td><font size = 3>Google Entertainment</font></td><td><font size = 3>4,926</font></td></tr>\n",
        "  <tr><td><font size = 4>Total</font></td><td><font size = 4>36,579</font></td></tr></table>\n",
        "  \n"
      ]
    },
    {
      "cell_type": "markdown",
      "metadata": {
        "id": "VAaFZSQ1JoKl",
        "colab_type": "text"
      },
      "source": [
        "An example news story (from 'google entertainment' feed):\n",
        "```\n",
        "{'author': ['Evan Real', 'Thrnews Thr.Com'],\n",
        " 'keywords': ['media',\n",
        "              'song',\n",
        "              'scores',\n",
        "              'panther',\n",
        "              'album',\n",
        "              '2000',\n",
        "              'best',\n",
        "              'visual',\n",
        "              'black',\n",
        "              'nominated',\n",
        "              'soundtrack',\n",
        "              'grammys',\n",
        "              'performance',\n",
        "              'lamar',\n",
        "              'nod'],\n",
        " 'link': 'https://www.hollywoodreporter.com/news/grammy-nominations-2019-black-panther-star-is-born-shallow-movie-tv-nominees-1167406',\n",
        " 'published': '2018-12-07T15:24:09',\n",
        " 'summary': 'The nominations for the 2019 Grammys were unveiled on Friday '\n",
        "            'morning, during which Black Panther became the third music '\n",
        "            'soundtrack to earn an album of the year nod in the last 25 '\n",
        "            'years.\\n'\n",
        "            \"Black Panther — along with Lamar, who leads this year's \"\n",
        "            'nominations — made out with a total of five noms.\\n'\n",
        "            'Lamar also is nominated for \"King\\'s Dead,\" for best rap '\n",
        "            'performance and best rap song, alongside Jay Rock, Future and '\n",
        "            'James Blake.\\n'\n",
        "            'In the best score soundtrack for visual media, Black Panther is '\n",
        "            'up against Blade Runner 2049, Coco, The Shape of Water and Star '\n",
        "            'Wars: The Last Jedi.\\n'\n",
        "            'The chart-topping track is up for song of the year, record of the '\n",
        "            'year, best pop duo/group performance and best song written for '\n",
        "            'visual media.',\n",
        " 'text': 'Along with soundtracks and songs from movies, notable Hollywood '\n",
        "         \"figures were nominated for music's highest honor, including Lady \"\n",
        "         'Gaga, Bradley Cooper and Donald Glover, among others.\\n'\n",
        "         '\\n'\n",
        "         'The nominations for the 2019 Grammys were unveiled on Friday '\n",
        "         'morning, during which Black Panther became the third music '\n",
        "         'soundtrack to earn an album of the year nod in the last 25 years. '\n",
        "         'The LP features efforts from Kendrick Lamar, by whom the album was '\n",
        "         'curated.\\n'\n",
        "         '\\n'\n",
        "         'Only two music soundtracks have received nominations in the last 25 '\n",
        "         \"years, including 1995's Waiting to Exhale and 2000's O Brother, \"\n",
        "         'Where Are Thou? Black Panther — along with Lamar, who leads this '\n",
        "         \"year's nominations — made out with a total of five noms. In addition \"\n",
        "         'to album of the year, Black Panther\\'s pop-rap anthem \"All the '\n",
        "         'Stars,\" performed by Lamar and SZA, is up for record of the year, '\n",
        "         'song of the year, best rap/sung performance and best song written '\n",
        "         'for visual media. Lamar also is nominated for \"King\\'s Dead,\" for '\n",
        "         'best rap performance and best rap song, alongside Jay Rock, Future '\n",
        "         'and James Blake.\\n'\n",
        "         '\\n'\n",
        "         'Black Panther stands alongside fellow album of the year nominees '\n",
        "         'Janelle Monae (Dirty Computer), Cardi B (Invasion of Privacy), '\n",
        "         'Brandi Carlile (By the Way, I Forgive You), Drake (Scorpion), H.E.R. '\n",
        "         '(H.E.R.), Post Malone (Beerbongs & Bentleys) and Kacey Musgraves '\n",
        "         '(Golden Hour).\\n'\n",
        "         '\\n'\n",
        "         'In the best score soundtrack for visual media, Black Panther is up '\n",
        "         'against Blade Runner 2049, Coco, The Shape of Water and Star Wars: '\n",
        "         'The Last Jedi.\\n'\n",
        "         '\\n'\n",
        "         'While the soundtrack for A Star Is Born was not in the running at '\n",
        "         'the Grammys this year because it was released on Oct. 5, its lead '\n",
        "         'track \"Shallow\" by Lady Gaga and Bradley Cooper, was acknowledged by '\n",
        "         'the Recording Academy. The chart-topping track is up for song of the '\n",
        "         'year, record of the year, best pop duo/group performance and best '\n",
        "         \"song written for visual media. This marks Cooper's first time being \"\n",
        "         'nominated, while Gaga has been nominated 24 times in total. She has '\n",
        "         'won six Grammys throughout her career.\\n'\n",
        "         '\\n'\n",
        "         'In the best song written for visual media category, \"Shallow\" and '\n",
        "         '\"All the Stars\" face off against \"Mystery of Love\" (Call Me By Your '\n",
        "         'Name), \"Remember Me\" (Coco) and \"This Is Me\" (The Greatest '\n",
        "         'Showman).\\n'\n",
        "         '\\n'\n",
        "         'Other films and TV shows were honored in the best compilation '\n",
        "         'soundtrack for visual media category, including Call Me By Your '\n",
        "         'Name, Lady Bird, Deadpool 2, The Greatest Showman and Stranger '\n",
        "         'Things.\\n'\n",
        "         '\\n'\n",
        "         'Aside from Lamar, Gaga and Cooper, other notable figures in '\n",
        "         'Hollywood received noms. Donald Glover, aka Childish Gambino, was '\n",
        "         'nominated in five categories. While \"Feels Like Summer\" was '\n",
        "         'nominated for best R&B song, his politically charged single \"This Is '\n",
        "         'America\" received noms for record of the year, song of the year, '\n",
        "         'best rap/sung performance and best music video.\\n'\n",
        "         '\\n'\n",
        "         'Tiffany Haddish was nominated in the best spoken world album '\n",
        "         'category for the audiobook reading of her 2017 memoir, The Last '\n",
        "         'Black Unicorn. Dave Chappelle (Equanimity & the Bird Revelation), '\n",
        "         'Patton Oswalt (Annihilation), Chris Rock (Tamborine), Fred Armisen '\n",
        "         '(Standup For Drummers) and Jim Gaffigan (Noble Ape) are all up for '\n",
        "         'best comedy album.\\n'\n",
        "         '\\n'\n",
        "         'And a roster of popular Broadway shows were honored with noms for '\n",
        "         \"best musical theater album, including The Band's Visit, Carousel, My \"\n",
        "         \"Fair Lady and Once on This Island. NBC's Jesus Christ Superstar Live \"\n",
        "         'in Concert was also included.\\n'\n",
        "         '\\n'\n",
        "         'The 61st annual Grammy Awards airs on CBS on Feb. 10 at 8 p.m. ET.',\n",
        " 'title': \"Grammys: 'Black Panther' Scores First Album of the Year Soundtrack \"\n",
        "          'Nod Since 2000'}\n",
        "          ```"
      ]
    },
    {
      "cell_type": "markdown",
      "metadata": {
        "id": "IDVkseM8zsl6",
        "colab_type": "text"
      },
      "source": [
        "For the top 50 higher frequency words for December 8th: \n",
        "\n",
        "```\n",
        "[['game', 1034],\n",
        " ['trump', 888],\n",
        " ['president', 705],\n",
        " ['week', 545],\n",
        " ['video', 520],\n",
        " ['season', 468],\n",
        " ['health', 445],\n",
        " ['state', 412],\n",
        " ['team', 410],\n",
        " ['told', 406],\n",
        " ['right', 405],\n",
        " ['world', 382],\n",
        " ['study', 360],\n",
        " ['2018', 339],\n",
        " ['york', 335],\n",
        " ['games', 333],\n",
        " ['say', 331],\n",
        " ['white', 324],\n",
        " ['players', 321],\n",
        " ['company', 314],\n",
        " ['woman', 311],\n",
        " ['report', 301],\n",
        " ['deal', 281],\n",
        " ['best', 275],\n",
        " ['million', 274],\n",
        " ['thats', 257],\n",
        " ['trumps', 251],\n",
        " ['watch', 251],\n",
        " ['trailer', 247],\n",
        " ['way', 245],\n",
        " ['know', 245],\n",
        " ['win', 240],\n",
        " ['available', 236],\n",
        " ['court', 232],\n",
        " ['man', 227],\n",
        " ['hes', 227],\n",
        " ['times', 224],\n",
        " ['risk', 218],\n",
        " ['think', 216],\n",
        " ['feature', 216],\n",
        " ['work', 211],\n",
        " ['need', 209],\n",
        " ['apple', 209],\n",
        " ['market', 208],\n",
        " ['play', 206],\n",
        " ['washington', 205],\n",
        " ['try', 204],\n",
        " ['house', 203],\n",
        " ['things', 203],\n",
        " ['going', 199]]\n",
        "```\n",
        "\n"
      ]
    },
    {
      "cell_type": "markdown",
      "metadata": {
        "id": "VoUQ34tr_D49",
        "colab_type": "text"
      },
      "source": [
        "###Possible Analyses"
      ]
    },
    {
      "cell_type": "markdown",
      "metadata": {
        "id": "6LI9tbCH_Iqs",
        "colab_type": "text"
      },
      "source": [
        "\n",
        "\n",
        "1. Sentiment Analysis of article headlines and text\n",
        "2. Machine Learning to predict the news source based on n-gram usage in a given article\n",
        "3. Analysis of word frequencies, for instance, across different news clusters\n",
        "4. Burstiness (i.e. an increase in frequency over a finite time period) of particular news topics\n",
        "\n"
      ]
    },
    {
      "cell_type": "markdown",
      "metadata": {
        "id": "2D47-OeJcHxK",
        "colab_type": "text"
      },
      "source": [
        "**References**\n",
        "\n",
        "Carlson, M. (2018). Automating judgment? Algorithmic judgment, news knowledge, and journalistic professionalism. New Media & Society, 20(5), 1755-1772.\n",
        "\n",
        " Galtung, J., & Ruge, M. H. (1965). The structure of foreign news: The presentation of the Congo, Cuba and Cyprus crises in four Norwegian newspapers. Journal of peace research, 2(1), 64-90.\n",
        " \n",
        "Hamborg, F., Meuschke, N., & Gipp, B. (2018). Bias-aware news analysis using matrix-based news aggregation. International Journal on Digital Libraries, 1-19.\n",
        " \n",
        " Harcup, T., & O'Neill, D. (2001). What is news? Galtung and Ruge revisited. Journalism studies, 2(2), 261-280.\n",
        " \n",
        " O’Neill, D., & Harcup, T. (2009). News values and selectivity. In The handbook of journalism studies (pp. 181-194). Routledge.\n",
        "# ---\n",
        "\n"
      ]
    }
  ]
}