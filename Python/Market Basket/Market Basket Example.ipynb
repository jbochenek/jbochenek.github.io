{
 "cells": [
  {
   "cell_type": "markdown",
   "metadata": {},
   "source": [
    "# Market Basket"
   ]
  },
  {
   "cell_type": "markdown",
   "metadata": {},
   "source": [
    "## An ingredient-based recommender system\n",
    "This is an exmample of a recommender system using some recipes data and the Apriori algorithm. These data can be obtained from Kaggle:\n",
    "\n",
    "- https://www.kaggle.com/kaggle/recipe-ingredients-dataset\n",
    "\n",
    "and are packaged with the assignment in the following directory:\n",
    "\n",
    "- `./data/train.json`"
   ]
  },
  {
   "cell_type": "markdown",
   "metadata": {},
   "source": [
    "To start, load the recipe data from `json` format and print the first 5 recipes."
   ]
  },
  {
   "cell_type": "code",
   "execution_count": 14,
   "metadata": {},
   "outputs": [
    {
     "name": "stdout",
     "output_type": "stream",
     "text": [
      "[{'cuisine': 'greek',\n",
      "  'id': 10259,\n",
      "  'ingredients': ['romaine lettuce',\n",
      "                  'black olives',\n",
      "                  'grape tomatoes',\n",
      "                  'garlic',\n",
      "                  'pepper',\n",
      "                  'purple onion',\n",
      "                  'seasoning',\n",
      "                  'garbanzo beans',\n",
      "                  'feta cheese crumbles']},\n",
      " {'cuisine': 'southern_us',\n",
      "  'id': 25693,\n",
      "  'ingredients': ['plain flour',\n",
      "                  'ground pepper',\n",
      "                  'salt',\n",
      "                  'tomatoes',\n",
      "                  'ground black pepper',\n",
      "                  'thyme',\n",
      "                  'eggs',\n",
      "                  'green tomatoes',\n",
      "                  'yellow corn meal',\n",
      "                  'milk',\n",
      "                  'vegetable oil']},\n",
      " {'cuisine': 'filipino',\n",
      "  'id': 20130,\n",
      "  'ingredients': ['eggs',\n",
      "                  'pepper',\n",
      "                  'salt',\n",
      "                  'mayonaise',\n",
      "                  'cooking oil',\n",
      "                  'green chilies',\n",
      "                  'grilled chicken breasts',\n",
      "                  'garlic powder',\n",
      "                  'yellow onion',\n",
      "                  'soy sauce',\n",
      "                  'butter',\n",
      "                  'chicken livers']},\n",
      " {'cuisine': 'indian',\n",
      "  'id': 22213,\n",
      "  'ingredients': ['water', 'vegetable oil', 'wheat', 'salt']}]\n"
     ]
    }
   ],
   "source": [
    "import json\n",
    "from pprint import pprint\n",
    "\n",
    "with open('./data/train.json', 'r') as train:\n",
    "    recipe = json.load(train)\n",
    "\n",
    "pprint(recipe [:4])"
   ]
  },
  {
   "cell_type": "markdown",
   "metadata": {},
   "source": [
    "Next, I wrote a function called `count_items(recipes)` that counts up the number of recipes that include each `ingredient`, storing each in the counter as a single-element tuple (for downstream convienience), i.e., incrementing like `counts[tuple([ingredient])] +=1`. \n",
    "\n",
    "When complete, exhibit this functions utility in application to the `recipes` and prints the number of 'candidates' in the output."
   ]
  },
  {
   "cell_type": "code",
   "execution_count": 15,
   "metadata": {},
   "outputs": [],
   "source": [
    "from collections import Counter\n",
    "\n",
    "def count_items(recipes):\n",
    "    counts = Counter()\n",
    "    for r in recipes: \n",
    "        for ingredient in r['ingredients']:\n",
    "            counts[tuple([ingredient])] +=1\n",
    "    return counts"
   ]
  },
  {
   "cell_type": "code",
   "execution_count": 16,
   "metadata": {
    "scrolled": true
   },
   "outputs": [
    {
     "name": "stdout",
     "output_type": "stream",
     "text": [
      "[(('salt',), 18049),\n",
      " (('onions',), 7972),\n",
      " (('olive oil',), 7972),\n",
      " (('water',), 7457),\n",
      " (('garlic',), 7380),\n",
      " (('sugar',), 6434),\n",
      " (('garlic cloves',), 6237),\n",
      " (('butter',), 4848),\n",
      " (('ground black pepper',), 4785),\n",
      " (('all-purpose flour',), 4632)]\n"
     ]
    }
   ],
   "source": [
    "i = count_items(recipe)\n",
    "pprint(i.most_common(10))\n"
   ]
  },
  {
   "cell_type": "markdown",
   "metadata": {},
   "source": [
    "Then, I wrote a function called `store_frequent(candidates, threshold = 25)`, which accepts a `Counter` of `candidates`, i.e., item or itemset counts, and stores only those with count above the determined `threshold` value in a separate counter called `frequent`, which is `return`ed at the end of the function. "
   ]
  },
  {
   "cell_type": "code",
   "execution_count": 17,
   "metadata": {},
   "outputs": [],
   "source": [
    "def store_frequent(candidates, threshold = 25):\n",
    "    frequent=[]\n",
    "    for c, k in candidates.items():\n",
    "        if k >= threshold:\n",
    "            frequent.append([c,k])\n",
    "    frequent = Counter(dict(frequent)) \n",
    "    '''coercing the list i made back into a counter as frequent works best as counter not as a dict'''\n",
    "    return frequent"
   ]
  },
  {
   "cell_type": "code",
   "execution_count": 18,
   "metadata": {},
   "outputs": [
    {
     "name": "stdout",
     "output_type": "stream",
     "text": [
      "[(('salt',), 18049),\n",
      " (('onions',), 7972),\n",
      " (('olive oil',), 7972),\n",
      " (('water',), 7457),\n",
      " (('garlic',), 7380)]\n",
      "1487\n"
     ]
    }
   ],
   "source": [
    "frequent = store_frequent(count_items(recipe),25) \n",
    "\n",
    "pprint(frequent.most_common(5)) # the top 5 ingredients to check that it worked \n",
    "pprint(len(frequent)) #how many ingredients are higher than 25 in count"
   ]
  },
  {
   "cell_type": "markdown",
   "metadata": {},
   "source": [
    "Then I wrote a function called `get_next(recipes, frequent, threshold = 25)` that accepts the `frequent` items output from the `store_frequent()` function. With these inputs, your function should:\n",
    "\n",
    "1. create a new `Counter` called `next_candidates`\n",
    "2. compute the `size` of the itemsets for `next_candidates` from a single key in `frequent`\n",
    "3. `for` any `recipe` with _at least_ as many ingredients as `size`:\n",
    "    1. loop over all itemsets of size `size` (see combinations note below)\n",
    "    2. utilize the apriori principle and subsets of itemsets to count up potentially-frequent candidate itemsets in `next_candidates`\n",
    "4. `return(next_candidates)` \n"
   ]
  },
  {
   "cell_type": "markdown",
   "metadata": {},
   "source": [
    "This is generating fewer candidates but more frequent as it increases the `size`. This follows the image below: ![lattice](images/lattice.png)\n",
    "\n",
    "\n",
    "As this gets larger, it has to make combinations of ingredients from the recipes and then it has to add in all other combinations to the item set before the items less than the threshold is cut off. "
   ]
  },
  {
   "cell_type": "code",
   "execution_count": 21,
   "metadata": {},
   "outputs": [],
   "source": [
    "from itertools import combinations\n",
    "import random\n",
    "\n",
    "def get_next(recipe, frequent, threshold = 25):\n",
    "    next_candidate=Counter()\n",
    "    nonviable = set()\n",
    "    size = len(list(frequent)[0])+1\n",
    "    for re in recipe:\n",
    "        if len(re['ingredients']) >= size:\n",
    "            items = re['ingredients']\n",
    "            for candidate in combinations(items, size):\n",
    "                if candidate in next_candidate:\n",
    "                    next_candidate[candidate] += 1\n",
    "                elif candidate not in nonviable:\n",
    "                    for subitemset in combinations(candidate, size-1):\n",
    "                        if subitemset not in frequent:\n",
    "                            nonviable.add(candidate)\n",
    "                            break\n",
    "                    else:\n",
    "                        next_candidate[candidate] += 1     \n",
    "    return next_candidate\n",
    "    "
   ]
  },
  {
   "cell_type": "code",
   "execution_count": 22,
   "metadata": {
    "scrolled": true
   },
   "outputs": [
    {
     "name": "stdout",
     "output_type": "stream",
     "text": [
      "[(('salt', 'onions'), 2641), (('olive oil', 'salt'), 2636), (('water', 'salt'), 2503), (('pepper', 'salt'), 2427), (('sugar', 'salt'), 1915), (('salt', 'garlic'), 1907), (('garlic', 'salt'), 1842), (('onions', 'salt'), 1751), (('ground black pepper', 'salt'), 1720), (('garlic', 'onions'), 1690), (('salt', 'garlic cloves'), 1605), (('all-purpose flour', 'salt'), 1567), (('salt', 'olive oil'), 1544), (('salt', 'all-purpose flour'), 1512), (('butter', 'salt'), 1497), (('salt', 'water'), 1457), (('salt', 'pepper'), 1417), (('garlic cloves', 'salt'), 1393), (('olive oil', 'onions'), 1366), (('olive oil', 'garlic cloves'), 1331), (('olive oil', 'garlic'), 1312), (('salt', 'butter'), 1280), (('water', 'onions'), 1245), (('eggs', 'salt'), 1198), (('vegetable oil', 'salt'), 1157), (('salt', 'sugar'), 1146), (('black pepper', 'salt'), 1125), (('large eggs', 'salt'), 1073), (('tomatoes', 'salt'), 1040), (('salt', 'ground black pepper'), 1017), (('water', 'garlic'), 1014), (('salt', 'ground cumin'), 971), (('onions', 'garlic'), 969), (('salt', 'vegetable oil'), 944), (('pepper', 'onions'), 910), (('unsalted butter', 'salt'), 896), (('garlic cloves', 'onions'), 894), (('milk', 'salt'), 842), (('onions', 'olive oil'), 841), (('water', 'garlic cloves'), 837), (('pepper', 'garlic'), 836), (('sugar', 'water'), 816), (('salt', 'carrots'), 811), (('butter', 'all-purpose flour'), 803), (('ground black pepper', 'garlic'), 796), (('olive oil', 'ground black pepper'), 783), (('sugar', 'all-purpose flour'), 781), (('garlic cloves', 'olive oil'), 772), (('garlic', 'olive oil'), 768), (('water', 'sugar'), 760)]\n"
     ]
    }
   ],
   "source": [
    "next_candidate2 = get_next(recipe, frequent, threshold=25)\n",
    "print(next_candidate2.most_common(50))"
   ]
  },
  {
   "cell_type": "code",
   "execution_count": 23,
   "metadata": {},
   "outputs": [
    {
     "name": "stdout",
     "output_type": "stream",
     "text": [
      "[(('pepper', 'salt', 'onions'), 397), (('garlic', 'onions', 'salt'), 394), (('water', 'salt', 'onions'), 370), (('salt', 'garlic', 'onions'), 369), (('olive oil', 'salt', 'onions'), 360), (('salt', 'onions', 'garlic'), 339), (('olive oil', 'salt', 'garlic cloves'), 293), (('salt', 'pepper', 'garlic'), 289), (('salt', 'olive oil', 'garlic'), 276), (('garlic', 'salt', 'onions'), 269), (('pepper', 'olive oil', 'salt'), 261), (('salt', 'butter', 'all-purpose flour'), 260), (('olive oil', 'garlic', 'onions'), 255), (('garlic', 'pepper', 'salt'), 253), (('olive oil', 'garlic', 'salt'), 248), (('garlic', 'olive oil', 'salt'), 245), (('olive oil', 'salt', 'pepper'), 244), (('salt', 'sugar', 'all-purpose flour'), 243), (('pepper', 'salt', 'garlic'), 243), (('salt', 'baking powder', 'all-purpose flour'), 243), (('garlic cloves', 'olive oil', 'salt'), 240), (('pepper', 'onions', 'salt'), 239), (('olive oil', 'pepper', 'salt'), 234), (('water', 'garlic', 'onions'), 230), (('olive oil', 'salt', 'garlic'), 229), (('ground black pepper', 'salt', 'onions'), 226), (('all-purpose flour', 'sugar', 'salt'), 225), (('garlic', 'water', 'salt'), 224), (('salt', 'water', 'garlic'), 222), (('tomatoes', 'salt', 'onions'), 222), (('onions', 'pepper', 'salt'), 221), (('olive oil', 'ground black pepper', 'salt'), 220), (('olive oil', 'salt', 'ground black pepper'), 219), (('pepper', 'garlic', 'salt'), 218), (('pepper', 'salt', 'olive oil'), 217), (('salt', 'water', 'onions'), 211), (('all-purpose flour', 'baking powder', 'salt'), 208), (('onions', 'olive oil', 'salt'), 208), (('olive oil', 'garlic cloves', 'salt'), 207), (('water', 'onions', 'salt'), 207), (('salt', 'pepper', 'onions'), 202), (('onions', 'water', 'salt'), 199), (('salt', 'olive oil', 'garlic cloves'), 198), (('salt', 'large eggs', 'all-purpose flour'), 197), (('salt', 'unsalted butter', 'all-purpose flour'), 195), (('pepper', 'garlic', 'onions'), 195), (('salt', 'olive oil', 'onions'), 193), (('sugar', 'large eggs', 'salt'), 192), (('salt', 'onions', 'pepper'), 190), (('butter', 'all-purpose flour', 'salt'), 189)]\n"
     ]
    }
   ],
   "source": [
    "next_candidate3 = get_next(recipe, next_candidate2, threshold=25)\n",
    "print(next_candidate3.most_common(50))"
   ]
  },
  {
   "cell_type": "markdown",
   "metadata": {},
   "source": [
    "With this I have the pieces to run Apriori/collect frequent itemsets, collecting all frequent itemsets up to a particular `size`. To do this, I wrote a function called `train(recipes, size = 4)`, which:\n",
    "\n",
    "1. initializes two empty dictionaries, `candidates`, and `frequent`;\n",
    "2. runs the `count_items` and `store_frequent` function, storing output in the `candidates`, and `frequent` dictionaries using the integer `1` as a key;\n",
    "3. loops over sizes: 2, 3, .., `size` to compute and store the subsequent sizes candidates and frequent itemsets in the same structure as (2), but now utilizing the `get_next` function, instead of `count_items`; and\n",
    "4. `return`s the `candidates` and `frequent` itemsets."
   ]
  },
  {
   "cell_type": "code",
   "execution_count": 57,
   "metadata": {},
   "outputs": [],
   "source": [
    "def train(recipes, size = 4):\n",
    "    candidates=dict()\n",
    "    frequent=dict()\n",
    "    i = 1\n",
    "    candidates[i] = count_items(recipes)\n",
    "    frequent[i] = store_frequent(candidates[i], threshold=25)\n",
    "    while i <= (size-1):\n",
    "        i=i+1\n",
    "        candidates[i]= get_next(recipes, candidates[i-1], threshold = 25)\n",
    "        frequent[i] = store_frequent(candidates[i], threshold=25) #these return the same thing...\n",
    "    return candidates, frequent"
   ]
  },
  {
   "cell_type": "code",
   "execution_count": 58,
   "metadata": {},
   "outputs": [],
   "source": [
    "candidates, frequent=train(random.sample(recipe,8000),size=4)"
   ]
  },
  {
   "cell_type": "code",
   "execution_count": 63,
   "metadata": {},
   "outputs": [],
   "source": [
    "candidates, frequent=train(recipe,size=4)"
   ]
  },
  {
   "cell_type": "code",
   "execution_count": 137,
   "metadata": {},
   "outputs": [
    {
     "name": "stdout",
     "output_type": "stream",
     "text": [
      "[(('pepper', 'salt', 'onions'), 397),\n",
      " (('garlic', 'onions', 'salt'), 394),\n",
      " (('water', 'salt', 'onions'), 370),\n",
      " (('salt', 'garlic', 'onions'), 369),\n",
      " (('olive oil', 'salt', 'onions'), 360),\n",
      " (('salt', 'onions', 'garlic'), 339),\n",
      " (('olive oil', 'salt', 'garlic cloves'), 293),\n",
      " (('salt', 'pepper', 'garlic'), 289),\n",
      " (('salt', 'olive oil', 'garlic'), 276),\n",
      " (('garlic', 'salt', 'onions'), 269),\n",
      " (('pepper', 'olive oil', 'salt'), 261),\n",
      " (('salt', 'butter', 'all-purpose flour'), 260),\n",
      " (('olive oil', 'garlic', 'onions'), 255),\n",
      " (('garlic', 'pepper', 'salt'), 253),\n",
      " (('olive oil', 'garlic', 'salt'), 248),\n",
      " (('garlic', 'olive oil', 'salt'), 245),\n",
      " (('olive oil', 'salt', 'pepper'), 244),\n",
      " (('salt', 'sugar', 'all-purpose flour'), 243),\n",
      " (('pepper', 'salt', 'garlic'), 243),\n",
      " (('salt', 'baking powder', 'all-purpose flour'), 243),\n",
      " (('garlic cloves', 'olive oil', 'salt'), 240),\n",
      " (('pepper', 'onions', 'salt'), 239),\n",
      " (('olive oil', 'pepper', 'salt'), 234),\n",
      " (('water', 'garlic', 'onions'), 230),\n",
      " (('olive oil', 'salt', 'garlic'), 229),\n",
      " (('ground black pepper', 'salt', 'onions'), 226),\n",
      " (('all-purpose flour', 'sugar', 'salt'), 225),\n",
      " (('garlic', 'water', 'salt'), 224),\n",
      " (('salt', 'water', 'garlic'), 222),\n",
      " (('tomatoes', 'salt', 'onions'), 222)]\n",
      "[(('pepper', 'salt', 'onions'), 397),\n",
      " (('garlic', 'onions', 'salt'), 394),\n",
      " (('water', 'salt', 'onions'), 370),\n",
      " (('salt', 'garlic', 'onions'), 369),\n",
      " (('olive oil', 'salt', 'onions'), 360),\n",
      " (('salt', 'onions', 'garlic'), 339),\n",
      " (('olive oil', 'salt', 'garlic cloves'), 293),\n",
      " (('salt', 'pepper', 'garlic'), 289),\n",
      " (('salt', 'olive oil', 'garlic'), 276),\n",
      " (('garlic', 'salt', 'onions'), 269),\n",
      " (('pepper', 'olive oil', 'salt'), 261),\n",
      " (('salt', 'butter', 'all-purpose flour'), 260),\n",
      " (('olive oil', 'garlic', 'onions'), 255),\n",
      " (('garlic', 'pepper', 'salt'), 253),\n",
      " (('olive oil', 'garlic', 'salt'), 248),\n",
      " (('garlic', 'olive oil', 'salt'), 245),\n",
      " (('olive oil', 'salt', 'pepper'), 244),\n",
      " (('salt', 'sugar', 'all-purpose flour'), 243),\n",
      " (('pepper', 'salt', 'garlic'), 243),\n",
      " (('salt', 'baking powder', 'all-purpose flour'), 243),\n",
      " (('garlic cloves', 'olive oil', 'salt'), 240),\n",
      " (('pepper', 'onions', 'salt'), 239),\n",
      " (('olive oil', 'pepper', 'salt'), 234),\n",
      " (('water', 'garlic', 'onions'), 230),\n",
      " (('olive oil', 'salt', 'garlic'), 229),\n",
      " (('ground black pepper', 'salt', 'onions'), 226),\n",
      " (('all-purpose flour', 'sugar', 'salt'), 225),\n",
      " (('garlic', 'water', 'salt'), 224),\n",
      " (('salt', 'water', 'garlic'), 222),\n",
      " (('tomatoes', 'salt', 'onions'), 222)]\n"
     ]
    }
   ],
   "source": [
    "pprint(candidates[3].most_common(30))\n",
    "pprint(frequent[3].most_common(30))"
   ]
  },
  {
   "cell_type": "markdown",
   "metadata": {},
   "source": [
    "With the `frequent` itemsets up to `size`, I can utilize them to recommend missing ingredients from ingredient 'baskets' of at most `size - 1`. To do this, I wrote a function called `recommend(basket, frequent)` that does the following: \n",
    "\n",
    "1. initializes an empty `recommendations` list\n",
    "2. loops over all frequent `itemset`s of `size 1 greater than the `basket`\n",
    "    - if there's one item left from the `itemset` when the `basket` removed, append the remaining item to the `recommendations` list in a tuple, with the number of ocurrences of the itemset in the second position\n",
    "4. `return` `recommendations`, but sorted from high to low by itemset ocurrence.\n",
    "\n",
    "With this code complete, I have reported the top 10 recommended items to buy for recipe flexibility in the following scenarios:\n",
    "\n",
    "- `basket = tuple(['butter', 'flour'])`\n",
    "- `basket = tuple(['soy sauce', 'green onions'])`\n",
    "- `basket = tuple(['avocado', 'garlic', 'salt'])`"
   ]
  },
  {
   "cell_type": "markdown",
   "metadata": {},
   "source": [
    "The function works well in pointing out additional items to add, however due to the fact that the trained data is sensitive to order in the items it comes up with the same items multiple times with different counts. This is because they used to be [(flour, butter, salt), ###] and [(butter, flour, salt), ###] and the result shows just salt with different numbers. However, it is performing within the specified limits of the question. \n",
    "\n",
    "The data does not have a suggestion for something that goes with avocado, garlic and salt, but appropriately suggest other goods needed for baking when supplied with butter and flour, which are hallmarks of baking recipes. "
   ]
  },
  {
   "cell_type": "code",
   "execution_count": 130,
   "metadata": {},
   "outputs": [],
   "source": [
    "import operator\n",
    "def recommend(basket, frequent):\n",
    "    recommendations = []\n",
    "    size = len(frequent)\n",
    "    if (len(basket)-1) < size:\n",
    "        for i in frequent:\n",
    "            if (len(basket)+1) == i:\n",
    "\n",
    "                for l,v in frequent[i].items():\n",
    "                    toup = set(basket + l)\n",
    "                    \n",
    "                    if len(toup) == i:\n",
    "\n",
    "                        ple = [s for s in l if s not in basket]\n",
    "                        recommendations.append(tuple([ple, v]))\n",
    "    else:\n",
    "        print(\"Cannot compute recommended next item in basket, trained itemset not large enough\")\n",
    "    recommendations.sort(key = operator.itemgetter(1), reverse = True)\n",
    "    return recommendations"
   ]
  },
  {
   "cell_type": "code",
   "execution_count": 133,
   "metadata": {},
   "outputs": [
    {
     "name": "stdout",
     "output_type": "stream",
     "text": [
      "[(['salt'], 67), (['salt'], 61), (['salt'], 56), (['salt'], 48), (['eggs'], 48), (['salt'], 39), (['milk'], 36), (['salt'], 35), (['sugar'], 35)]\n"
     ]
    }
   ],
   "source": [
    "basket = tuple(['butter', 'flour'])\n",
    "\n",
    "recommendations = recommend(basket, frequent)\n",
    "\n",
    "print(recommendations[:9])\n",
    "#there is some overlap that occurs with the items as the combinations stored in the first D5 code is sensitive to order, so (salt,butter,flour) and (butter,flour,salt) are separate items and have different counts.\n"
   ]
  },
  {
   "cell_type": "code",
   "execution_count": 134,
   "metadata": {},
   "outputs": [
    {
     "name": "stdout",
     "output_type": "stream",
     "text": [
      "[(['sesame oil'], 93), (['garlic'], 91), (['sesame oil'], 88), (['sesame oil'], 80), (['salt'], 74), (['garlic'], 66), (['garlic'], 65), (['sesame oil'], 60), (['garlic'], 59)]\n"
     ]
    }
   ],
   "source": [
    "\n",
    "basket = tuple(['soy sauce', 'green onions'])\n",
    "recommendations = recommend(basket, frequent)\n",
    "\n",
    "print(recommendations[:9])"
   ]
  },
  {
   "cell_type": "code",
   "execution_count": 135,
   "metadata": {},
   "outputs": [
    {
     "name": "stdout",
     "output_type": "stream",
     "text": [
      "[]\n"
     ]
    }
   ],
   "source": [
    "basket = tuple(['avocado', 'garlic', 'salt'])\n",
    "recommendations = recommend(basket, frequent)\n",
    "\n",
    "print(recommendations[:9])"
   ]
  }
 ],
 "metadata": {
  "kernelspec": {
   "display_name": "Python 3",
   "language": "python",
   "name": "python3"
  },
  "language_info": {
   "codemirror_mode": {
    "name": "ipython",
    "version": 3
   },
   "file_extension": ".py",
   "mimetype": "text/x-python",
   "name": "python",
   "nbconvert_exporter": "python",
   "pygments_lexer": "ipython3",
   "version": "3.7.7"
  }
 },
 "nbformat": 4,
 "nbformat_minor": 2
}
